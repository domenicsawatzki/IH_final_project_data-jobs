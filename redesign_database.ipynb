{
 "cells": [
  {
   "cell_type": "code",
   "execution_count": 222,
   "metadata": {},
   "outputs": [
    {
     "name": "stdout",
     "output_type": "stream",
     "text": [
      "The autoreload extension is already loaded. To reload it, use:\n",
      "  %reload_ext autoreload\n"
     ]
    }
   ],
   "source": [
    "import winsound\n",
    "import pygame\n",
    "from bs4 import BeautifulSoup, NavigableString\n",
    "import requests\n",
    "from time import sleep\n",
    "from random import randint\n",
    "import math\n",
    "from tqdm import tqdm\n",
    "import pickle\n",
    "import pandas as pd\n",
    "from datetime import date\n",
    "from datetime import datetime\n",
    "import json\n",
    "\n",
    "import pymysql                        # for getting data from a SQL database\n",
    "from sqlalchemy import create_engine, text  # for establishing the connection and authentication\n",
    "import zlib\n",
    "\n",
    "from webscraper.scrap_modules import my_NLP as myNLP \n",
    "from webscraper.scrap_modules import scraper_ds as mybib\n",
    "from webscraper.scrap_modules import prep as prep\n",
    "\n",
    "%load_ext autoreload\n",
    "%autoreload 2"
   ]
  },
  {
   "cell_type": "markdown",
   "metadata": {},
   "source": [
    "### load scraped raw data"
   ]
  },
  {
   "cell_type": "code",
   "execution_count": 134,
   "metadata": {},
   "outputs": [],
   "source": [
    "\n",
    "with open(\"webscraper/webscrap_data/soup_dict.pkl\", \"rb\") as f:\n",
    "    scraper_dict = pickle.load(f)\n",
    "    \n",
    "with open(\"webscraper/webscrap_data/keyword_dict.pkl\", \"rb\") as f:\n",
    "    keyword_dict = pickle.load(f)"
   ]
  },
  {
   "cell_type": "code",
   "execution_count": 127,
   "metadata": {},
   "outputs": [
    {
     "data": {
      "text/plain": [
       "20061"
      ]
     },
     "execution_count": 127,
     "metadata": {},
     "output_type": "execute_result"
    }
   ],
   "source": [
    "len(scraper_dict)"
   ]
  },
  {
   "cell_type": "markdown",
   "metadata": {},
   "source": [
    "### transform scraped raw data into df "
   ]
  },
  {
   "cell_type": "code",
   "execution_count": 157,
   "metadata": {},
   "outputs": [
    {
     "name": "stderr",
     "output_type": "stream",
     "text": [
      "100%|██████████| 20941/20941 [12:51<00:00, 27.15it/s] \n"
     ]
    }
   ],
   "source": [
    "df = prep.transform_scrap_data_to_df(scraper_dict)"
   ]
  },
  {
   "cell_type": "code",
   "execution_count": 176,
   "metadata": {},
   "outputs": [
    {
     "data": {
      "text/html": [
       "<div>\n",
       "<style scoped>\n",
       "    .dataframe tbody tr th:only-of-type {\n",
       "        vertical-align: middle;\n",
       "    }\n",
       "\n",
       "    .dataframe tbody tr th {\n",
       "        vertical-align: top;\n",
       "    }\n",
       "\n",
       "    .dataframe thead th {\n",
       "        text-align: right;\n",
       "    }\n",
       "</style>\n",
       "<table border=\"1\" class=\"dataframe\">\n",
       "  <thead>\n",
       "    <tr style=\"text-align: right;\">\n",
       "      <th></th>\n",
       "      <th>id</th>\n",
       "      <th>title</th>\n",
       "      <th>company</th>\n",
       "      <th>city</th>\n",
       "      <th>posting_date</th>\n",
       "      <th>job_description</th>\n",
       "      <th>seniority_level</th>\n",
       "      <th>employment_type</th>\n",
       "      <th>job_function</th>\n",
       "      <th>industries</th>\n",
       "      <th>scraping_date</th>\n",
       "      <th>url</th>\n",
       "    </tr>\n",
       "  </thead>\n",
       "  <tbody>\n",
       "    <tr>\n",
       "      <th>0</th>\n",
       "      <td>3685669741</td>\n",
       "      <td>Software Engineer Fullstack (m/w/d)</td>\n",
       "      <td>Atruvia AG</td>\n",
       "      <td>Aschheim, Bavaria, Germany</td>\n",
       "      <td>1 day ago</td>\n",
       "      <td>VollzeitWir sind der Digitalisierungspartner d...</td>\n",
       "      <td>Entry level</td>\n",
       "      <td>Full-time</td>\n",
       "      <td>Engineering and Information Technology</td>\n",
       "      <td>IT Services and IT Consulting</td>\n",
       "      <td>2023-09-24</td>\n",
       "      <td>https://www.linkedin.com/jobs/search?keywords=...</td>\n",
       "    </tr>\n",
       "    <tr>\n",
       "      <th>1</th>\n",
       "      <td>3719620327</td>\n",
       "      <td>Data Analyst - Business Intelligence</td>\n",
       "      <td>Almedia</td>\n",
       "      <td>Berlin, Berlin, Germany</td>\n",
       "      <td>5 days ago</td>\n",
       "      <td>Almedia helps companies grow by promoting thei...</td>\n",
       "      <td>Mid-Senior level</td>\n",
       "      <td>Full-time</td>\n",
       "      <td>Analyst</td>\n",
       "      <td>Technology, Information and Internet</td>\n",
       "      <td>2023-09-24</td>\n",
       "      <td>https://www.linkedin.com/jobs/search?keywords=...</td>\n",
       "    </tr>\n",
       "    <tr>\n",
       "      <th>2</th>\n",
       "      <td>3720365801</td>\n",
       "      <td>(Junior) Data Engineer (m/f/d)</td>\n",
       "      <td>Sandbox Interactive</td>\n",
       "      <td>Berlin, Berlin, Germany</td>\n",
       "      <td>1 day ago</td>\n",
       "      <td>YOUR GAMEBuild and maintain the current data i...</td>\n",
       "      <td>Mid-Senior level</td>\n",
       "      <td>Full-time</td>\n",
       "      <td>Information Technology</td>\n",
       "      <td>Computer Games</td>\n",
       "      <td>2023-09-24</td>\n",
       "      <td>https://www.linkedin.com/jobs/search?keywords=...</td>\n",
       "    </tr>\n",
       "    <tr>\n",
       "      <th>3</th>\n",
       "      <td>3672508925</td>\n",
       "      <td>Financial Data Analyst (m/f/d)</td>\n",
       "      <td>Ultramarin</td>\n",
       "      <td>Berlin, Berlin, Germany</td>\n",
       "      <td>2 months ago</td>\n",
       "      <td>About The PositionWe are looking for a top-tie...</td>\n",
       "      <td>Mid-Senior level</td>\n",
       "      <td>Full-time</td>\n",
       "      <td>Information Technology</td>\n",
       "      <td>Financial Services</td>\n",
       "      <td>2023-09-24</td>\n",
       "      <td>https://www.linkedin.com/jobs/search?keywords=...</td>\n",
       "    </tr>\n",
       "    <tr>\n",
       "      <th>4</th>\n",
       "      <td>3695466781</td>\n",
       "      <td>Business Intelligence Analyst (f/m/d)</td>\n",
       "      <td>Les Lunes</td>\n",
       "      <td>Berlin, Berlin, Germany</td>\n",
       "      <td>4 weeks ago</td>\n",
       "      <td>Your missionAs a Business Intelligence Analyst...</td>\n",
       "      <td>Mid-Senior level</td>\n",
       "      <td>Full-time</td>\n",
       "      <td>Research, Analyst, and Information Technology</td>\n",
       "      <td>Retail Apparel and Fashion</td>\n",
       "      <td>2023-09-24</td>\n",
       "      <td>https://www.linkedin.com/jobs/search?keywords=...</td>\n",
       "    </tr>\n",
       "    <tr>\n",
       "      <th>5</th>\n",
       "      <td>3585738180</td>\n",
       "      <td>Data Analyst</td>\n",
       "      <td>Orange Quarter</td>\n",
       "      <td>Berlin, Berlin, Germany</td>\n",
       "      <td>5 months ago</td>\n",
       "      <td>Orange Quarter are working with an exciting st...</td>\n",
       "      <td>Entry level</td>\n",
       "      <td>Full-time</td>\n",
       "      <td>Information Technology</td>\n",
       "      <td>Staffing and Recruiting</td>\n",
       "      <td>2023-09-24</td>\n",
       "      <td>https://www.linkedin.com/jobs/search?keywords=...</td>\n",
       "    </tr>\n",
       "    <tr>\n",
       "      <th>6</th>\n",
       "      <td>3585734564</td>\n",
       "      <td>Data Analyst</td>\n",
       "      <td>Orange Quarter</td>\n",
       "      <td>Berlin, Berlin, Germany</td>\n",
       "      <td>5 months ago</td>\n",
       "      <td>Orange Quarter are currently looking for a Dat...</td>\n",
       "      <td>Entry level</td>\n",
       "      <td>Full-time</td>\n",
       "      <td>Information Technology</td>\n",
       "      <td>Staffing and Recruiting</td>\n",
       "      <td>2023-09-24</td>\n",
       "      <td>https://www.linkedin.com/jobs/search?keywords=...</td>\n",
       "    </tr>\n",
       "    <tr>\n",
       "      <th>7</th>\n",
       "      <td>3704916810</td>\n",
       "      <td>BI Analyst (f/m/d)</td>\n",
       "      <td>Enter</td>\n",
       "      <td>Berlin, Berlin, Germany</td>\n",
       "      <td>3 weeks ago</td>\n",
       "      <td>Build the future with Enter.Our mission is to ...</td>\n",
       "      <td>Mid-Senior level</td>\n",
       "      <td>Full-time</td>\n",
       "      <td>Information Technology</td>\n",
       "      <td>Architecture and Planning</td>\n",
       "      <td>2023-09-24</td>\n",
       "      <td>https://www.linkedin.com/jobs/search?keywords=...</td>\n",
       "    </tr>\n",
       "    <tr>\n",
       "      <th>8</th>\n",
       "      <td>3585734595</td>\n",
       "      <td>Data Analyst</td>\n",
       "      <td>Orange Quarter</td>\n",
       "      <td>Berlin, Berlin, Germany</td>\n",
       "      <td>5 months ago</td>\n",
       "      <td>We are currently working with an emerging SaaS...</td>\n",
       "      <td>Entry level</td>\n",
       "      <td>Full-time</td>\n",
       "      <td>Information Technology</td>\n",
       "      <td>Staffing and Recruiting</td>\n",
       "      <td>2023-09-24</td>\n",
       "      <td>https://www.linkedin.com/jobs/search?keywords=...</td>\n",
       "    </tr>\n",
       "    <tr>\n",
       "      <th>9</th>\n",
       "      <td>3698396795</td>\n",
       "      <td>Senior Data Analyst</td>\n",
       "      <td>Klim</td>\n",
       "      <td>Berlin, Berlin, Germany</td>\n",
       "      <td>1 month ago</td>\n",
       "      <td>We are Klim, a Berlin-based clean-tech company...</td>\n",
       "      <td>Mid-Senior level</td>\n",
       "      <td>Full-time</td>\n",
       "      <td>Other</td>\n",
       "      <td>IT Services and IT Consulting</td>\n",
       "      <td>2023-09-24</td>\n",
       "      <td>https://www.linkedin.com/jobs/search?keywords=...</td>\n",
       "    </tr>\n",
       "  </tbody>\n",
       "</table>\n",
       "</div>"
      ],
      "text/plain": [
       "           id                                  title              company  \\\n",
       "0  3685669741    Software Engineer Fullstack (m/w/d)           Atruvia AG   \n",
       "1  3719620327   Data Analyst - Business Intelligence              Almedia   \n",
       "2  3720365801         (Junior) Data Engineer (m/f/d)  Sandbox Interactive   \n",
       "3  3672508925         Financial Data Analyst (m/f/d)           Ultramarin   \n",
       "4  3695466781  Business Intelligence Analyst (f/m/d)            Les Lunes   \n",
       "5  3585738180                           Data Analyst       Orange Quarter   \n",
       "6  3585734564                           Data Analyst       Orange Quarter   \n",
       "7  3704916810                     BI Analyst (f/m/d)                Enter   \n",
       "8  3585734595                           Data Analyst       Orange Quarter   \n",
       "9  3698396795                    Senior Data Analyst                 Klim   \n",
       "\n",
       "                         city  posting_date  \\\n",
       "0  Aschheim, Bavaria, Germany     1 day ago   \n",
       "1     Berlin, Berlin, Germany    5 days ago   \n",
       "2     Berlin, Berlin, Germany     1 day ago   \n",
       "3     Berlin, Berlin, Germany  2 months ago   \n",
       "4     Berlin, Berlin, Germany   4 weeks ago   \n",
       "5     Berlin, Berlin, Germany  5 months ago   \n",
       "6     Berlin, Berlin, Germany  5 months ago   \n",
       "7     Berlin, Berlin, Germany   3 weeks ago   \n",
       "8     Berlin, Berlin, Germany  5 months ago   \n",
       "9     Berlin, Berlin, Germany   1 month ago   \n",
       "\n",
       "                                     job_description   seniority_level  \\\n",
       "0  VollzeitWir sind der Digitalisierungspartner d...       Entry level   \n",
       "1  Almedia helps companies grow by promoting thei...  Mid-Senior level   \n",
       "2  YOUR GAMEBuild and maintain the current data i...  Mid-Senior level   \n",
       "3  About The PositionWe are looking for a top-tie...  Mid-Senior level   \n",
       "4  Your missionAs a Business Intelligence Analyst...  Mid-Senior level   \n",
       "5  Orange Quarter are working with an exciting st...       Entry level   \n",
       "6  Orange Quarter are currently looking for a Dat...       Entry level   \n",
       "7  Build the future with Enter.Our mission is to ...  Mid-Senior level   \n",
       "8  We are currently working with an emerging SaaS...       Entry level   \n",
       "9  We are Klim, a Berlin-based clean-tech company...  Mid-Senior level   \n",
       "\n",
       "  employment_type                                   job_function  \\\n",
       "0       Full-time         Engineering and Information Technology   \n",
       "1       Full-time                                        Analyst   \n",
       "2       Full-time                         Information Technology   \n",
       "3       Full-time                         Information Technology   \n",
       "4       Full-time  Research, Analyst, and Information Technology   \n",
       "5       Full-time                         Information Technology   \n",
       "6       Full-time                         Information Technology   \n",
       "7       Full-time                         Information Technology   \n",
       "8       Full-time                         Information Technology   \n",
       "9       Full-time                                          Other   \n",
       "\n",
       "                             industries scraping_date  \\\n",
       "0         IT Services and IT Consulting    2023-09-24   \n",
       "1  Technology, Information and Internet    2023-09-24   \n",
       "2                        Computer Games    2023-09-24   \n",
       "3                    Financial Services    2023-09-24   \n",
       "4            Retail Apparel and Fashion    2023-09-24   \n",
       "5               Staffing and Recruiting    2023-09-24   \n",
       "6               Staffing and Recruiting    2023-09-24   \n",
       "7             Architecture and Planning    2023-09-24   \n",
       "8               Staffing and Recruiting    2023-09-24   \n",
       "9         IT Services and IT Consulting    2023-09-24   \n",
       "\n",
       "                                                 url  \n",
       "0  https://www.linkedin.com/jobs/search?keywords=...  \n",
       "1  https://www.linkedin.com/jobs/search?keywords=...  \n",
       "2  https://www.linkedin.com/jobs/search?keywords=...  \n",
       "3  https://www.linkedin.com/jobs/search?keywords=...  \n",
       "4  https://www.linkedin.com/jobs/search?keywords=...  \n",
       "5  https://www.linkedin.com/jobs/search?keywords=...  \n",
       "6  https://www.linkedin.com/jobs/search?keywords=...  \n",
       "7  https://www.linkedin.com/jobs/search?keywords=...  \n",
       "8  https://www.linkedin.com/jobs/search?keywords=...  \n",
       "9  https://www.linkedin.com/jobs/search?keywords=...  "
      ]
     },
     "execution_count": 176,
     "metadata": {},
     "output_type": "execute_result"
    }
   ],
   "source": [
    "df.head(10)"
   ]
  },
  {
   "cell_type": "code",
   "execution_count": 174,
   "metadata": {},
   "outputs": [
    {
     "data": {
      "text/plain": [
       "206"
      ]
     },
     "execution_count": 174,
     "metadata": {},
     "output_type": "execute_result"
    }
   ],
   "source": [
    "df[\"title\"].isna().sum()"
   ]
  },
  {
   "cell_type": "markdown",
   "metadata": {},
   "source": [
    "### data cleaning - empty rows\n",
    "Trying to fill none values doing a second request"
   ]
  },
  {
   "cell_type": "code",
   "execution_count": 175,
   "metadata": {},
   "outputs": [
    {
     "name": "stderr",
     "output_type": "stream",
     "text": [
      "100%|██████████| 206/206 [07:48<00:00,  2.28s/it]\n",
      "100%|██████████| 206/206 [00:03<00:00, 62.09it/s] \n"
     ]
    }
   ],
   "source": [
    "new_df = prep.second_request_empty_values(df, max_sleeptime = )"
   ]
  },
  {
   "cell_type": "code",
   "execution_count": 169,
   "metadata": {},
   "outputs": [
    {
     "data": {
      "text/plain": [
       "16"
      ]
     },
     "execution_count": 169,
     "metadata": {},
     "output_type": "execute_result"
    }
   ],
   "source": [
    "new_df['title'].isna().sum()"
   ]
  },
  {
   "cell_type": "markdown",
   "metadata": {},
   "source": [
    " Manual research for the id's which have still empty rows"
   ]
  },
  {
   "cell_type": "code",
   "execution_count": 168,
   "metadata": {},
   "outputs": [
    {
     "data": {
      "text/html": [
       "<div>\n",
       "<style scoped>\n",
       "    .dataframe tbody tr th:only-of-type {\n",
       "        vertical-align: middle;\n",
       "    }\n",
       "\n",
       "    .dataframe tbody tr th {\n",
       "        vertical-align: top;\n",
       "    }\n",
       "\n",
       "    .dataframe thead th {\n",
       "        text-align: right;\n",
       "    }\n",
       "</style>\n",
       "<table border=\"1\" class=\"dataframe\">\n",
       "  <thead>\n",
       "    <tr style=\"text-align: right;\">\n",
       "      <th></th>\n",
       "      <th>id</th>\n",
       "      <th>title</th>\n",
       "      <th>company</th>\n",
       "      <th>city</th>\n",
       "      <th>posting_date</th>\n",
       "      <th>job_description</th>\n",
       "      <th>seniority_level</th>\n",
       "      <th>employment_type</th>\n",
       "      <th>job_function</th>\n",
       "      <th>industries</th>\n",
       "      <th>scraping_date</th>\n",
       "      <th>url</th>\n",
       "    </tr>\n",
       "  </thead>\n",
       "  <tbody>\n",
       "    <tr>\n",
       "      <th>20779</th>\n",
       "      <td>3715670180</td>\n",
       "      <td>None</td>\n",
       "      <td>None</td>\n",
       "      <td>None</td>\n",
       "      <td>None</td>\n",
       "      <td>None</td>\n",
       "      <td>None</td>\n",
       "      <td>None</td>\n",
       "      <td>None</td>\n",
       "      <td>None</td>\n",
       "      <td>2023-09-25</td>\n",
       "      <td>None</td>\n",
       "    </tr>\n",
       "    <tr>\n",
       "      <th>20784</th>\n",
       "      <td>3470370115</td>\n",
       "      <td>None</td>\n",
       "      <td>None</td>\n",
       "      <td>None</td>\n",
       "      <td>None</td>\n",
       "      <td>None</td>\n",
       "      <td>None</td>\n",
       "      <td>None</td>\n",
       "      <td>None</td>\n",
       "      <td>None</td>\n",
       "      <td>2023-09-25</td>\n",
       "      <td>None</td>\n",
       "    </tr>\n",
       "    <tr>\n",
       "      <th>20785</th>\n",
       "      <td>3713820046</td>\n",
       "      <td>None</td>\n",
       "      <td>None</td>\n",
       "      <td>None</td>\n",
       "      <td>None</td>\n",
       "      <td>None</td>\n",
       "      <td>None</td>\n",
       "      <td>None</td>\n",
       "      <td>None</td>\n",
       "      <td>None</td>\n",
       "      <td>2023-09-25</td>\n",
       "      <td>None</td>\n",
       "    </tr>\n",
       "    <tr>\n",
       "      <th>20786</th>\n",
       "      <td>3708677238</td>\n",
       "      <td>None</td>\n",
       "      <td>None</td>\n",
       "      <td>None</td>\n",
       "      <td>None</td>\n",
       "      <td>None</td>\n",
       "      <td>None</td>\n",
       "      <td>None</td>\n",
       "      <td>None</td>\n",
       "      <td>None</td>\n",
       "      <td>2023-09-25</td>\n",
       "      <td>None</td>\n",
       "    </tr>\n",
       "    <tr>\n",
       "      <th>20789</th>\n",
       "      <td>3702068466</td>\n",
       "      <td>None</td>\n",
       "      <td>None</td>\n",
       "      <td>None</td>\n",
       "      <td>None</td>\n",
       "      <td>None</td>\n",
       "      <td>None</td>\n",
       "      <td>None</td>\n",
       "      <td>None</td>\n",
       "      <td>None</td>\n",
       "      <td>2023-09-25</td>\n",
       "      <td>None</td>\n",
       "    </tr>\n",
       "    <tr>\n",
       "      <th>20790</th>\n",
       "      <td>3724887274</td>\n",
       "      <td>None</td>\n",
       "      <td>None</td>\n",
       "      <td>None</td>\n",
       "      <td>None</td>\n",
       "      <td>None</td>\n",
       "      <td>None</td>\n",
       "      <td>None</td>\n",
       "      <td>None</td>\n",
       "      <td>None</td>\n",
       "      <td>2023-09-25</td>\n",
       "      <td>None</td>\n",
       "    </tr>\n",
       "    <tr>\n",
       "      <th>20791</th>\n",
       "      <td>3718984435</td>\n",
       "      <td>None</td>\n",
       "      <td>None</td>\n",
       "      <td>None</td>\n",
       "      <td>None</td>\n",
       "      <td>None</td>\n",
       "      <td>None</td>\n",
       "      <td>None</td>\n",
       "      <td>None</td>\n",
       "      <td>None</td>\n",
       "      <td>2023-09-25</td>\n",
       "      <td>None</td>\n",
       "    </tr>\n",
       "    <tr>\n",
       "      <th>20792</th>\n",
       "      <td>3716462365</td>\n",
       "      <td>None</td>\n",
       "      <td>None</td>\n",
       "      <td>None</td>\n",
       "      <td>None</td>\n",
       "      <td>None</td>\n",
       "      <td>None</td>\n",
       "      <td>None</td>\n",
       "      <td>None</td>\n",
       "      <td>None</td>\n",
       "      <td>2023-09-25</td>\n",
       "      <td>None</td>\n",
       "    </tr>\n",
       "    <tr>\n",
       "      <th>20794</th>\n",
       "      <td>3720125985</td>\n",
       "      <td>None</td>\n",
       "      <td>None</td>\n",
       "      <td>None</td>\n",
       "      <td>None</td>\n",
       "      <td>None</td>\n",
       "      <td>None</td>\n",
       "      <td>None</td>\n",
       "      <td>None</td>\n",
       "      <td>None</td>\n",
       "      <td>2023-09-25</td>\n",
       "      <td>None</td>\n",
       "    </tr>\n",
       "    <tr>\n",
       "      <th>20796</th>\n",
       "      <td>3727603747</td>\n",
       "      <td>None</td>\n",
       "      <td>None</td>\n",
       "      <td>None</td>\n",
       "      <td>None</td>\n",
       "      <td>None</td>\n",
       "      <td>None</td>\n",
       "      <td>None</td>\n",
       "      <td>None</td>\n",
       "      <td>None</td>\n",
       "      <td>2023-09-25</td>\n",
       "      <td>None</td>\n",
       "    </tr>\n",
       "    <tr>\n",
       "      <th>20800</th>\n",
       "      <td>3710619879</td>\n",
       "      <td>None</td>\n",
       "      <td>None</td>\n",
       "      <td>None</td>\n",
       "      <td>None</td>\n",
       "      <td>None</td>\n",
       "      <td>None</td>\n",
       "      <td>None</td>\n",
       "      <td>None</td>\n",
       "      <td>None</td>\n",
       "      <td>2023-09-25</td>\n",
       "      <td>None</td>\n",
       "    </tr>\n",
       "    <tr>\n",
       "      <th>20807</th>\n",
       "      <td>3724528717</td>\n",
       "      <td>None</td>\n",
       "      <td>None</td>\n",
       "      <td>None</td>\n",
       "      <td>None</td>\n",
       "      <td>None</td>\n",
       "      <td>None</td>\n",
       "      <td>None</td>\n",
       "      <td>None</td>\n",
       "      <td>None</td>\n",
       "      <td>2023-09-25</td>\n",
       "      <td>None</td>\n",
       "    </tr>\n",
       "    <tr>\n",
       "      <th>20835</th>\n",
       "      <td>3722015348</td>\n",
       "      <td>None</td>\n",
       "      <td>None</td>\n",
       "      <td>None</td>\n",
       "      <td>None</td>\n",
       "      <td>None</td>\n",
       "      <td>None</td>\n",
       "      <td>None</td>\n",
       "      <td>None</td>\n",
       "      <td>None</td>\n",
       "      <td>2023-09-25</td>\n",
       "      <td>None</td>\n",
       "    </tr>\n",
       "    <tr>\n",
       "      <th>20869</th>\n",
       "      <td>3726624479</td>\n",
       "      <td>None</td>\n",
       "      <td>None</td>\n",
       "      <td>None</td>\n",
       "      <td>None</td>\n",
       "      <td>None</td>\n",
       "      <td>None</td>\n",
       "      <td>None</td>\n",
       "      <td>None</td>\n",
       "      <td>None</td>\n",
       "      <td>2023-09-25</td>\n",
       "      <td>None</td>\n",
       "    </tr>\n",
       "    <tr>\n",
       "      <th>20871</th>\n",
       "      <td>3708939552</td>\n",
       "      <td>None</td>\n",
       "      <td>None</td>\n",
       "      <td>None</td>\n",
       "      <td>None</td>\n",
       "      <td>None</td>\n",
       "      <td>None</td>\n",
       "      <td>None</td>\n",
       "      <td>None</td>\n",
       "      <td>None</td>\n",
       "      <td>2023-09-25</td>\n",
       "      <td>None</td>\n",
       "    </tr>\n",
       "    <tr>\n",
       "      <th>20898</th>\n",
       "      <td>3698082998</td>\n",
       "      <td>None</td>\n",
       "      <td>None</td>\n",
       "      <td>None</td>\n",
       "      <td>None</td>\n",
       "      <td>None</td>\n",
       "      <td>None</td>\n",
       "      <td>None</td>\n",
       "      <td>None</td>\n",
       "      <td>None</td>\n",
       "      <td>2023-09-25</td>\n",
       "      <td>None</td>\n",
       "    </tr>\n",
       "  </tbody>\n",
       "</table>\n",
       "</div>"
      ],
      "text/plain": [
       "               id title company  city posting_date job_description  \\\n",
       "20779  3715670180  None    None  None         None            None   \n",
       "20784  3470370115  None    None  None         None            None   \n",
       "20785  3713820046  None    None  None         None            None   \n",
       "20786  3708677238  None    None  None         None            None   \n",
       "20789  3702068466  None    None  None         None            None   \n",
       "20790  3724887274  None    None  None         None            None   \n",
       "20791  3718984435  None    None  None         None            None   \n",
       "20792  3716462365  None    None  None         None            None   \n",
       "20794  3720125985  None    None  None         None            None   \n",
       "20796  3727603747  None    None  None         None            None   \n",
       "20800  3710619879  None    None  None         None            None   \n",
       "20807  3724528717  None    None  None         None            None   \n",
       "20835  3722015348  None    None  None         None            None   \n",
       "20869  3726624479  None    None  None         None            None   \n",
       "20871  3708939552  None    None  None         None            None   \n",
       "20898  3698082998  None    None  None         None            None   \n",
       "\n",
       "      seniority_level employment_type job_function industries scraping_date  \\\n",
       "20779            None            None         None       None    2023-09-25   \n",
       "20784            None            None         None       None    2023-09-25   \n",
       "20785            None            None         None       None    2023-09-25   \n",
       "20786            None            None         None       None    2023-09-25   \n",
       "20789            None            None         None       None    2023-09-25   \n",
       "20790            None            None         None       None    2023-09-25   \n",
       "20791            None            None         None       None    2023-09-25   \n",
       "20792            None            None         None       None    2023-09-25   \n",
       "20794            None            None         None       None    2023-09-25   \n",
       "20796            None            None         None       None    2023-09-25   \n",
       "20800            None            None         None       None    2023-09-25   \n",
       "20807            None            None         None       None    2023-09-25   \n",
       "20835            None            None         None       None    2023-09-25   \n",
       "20869            None            None         None       None    2023-09-25   \n",
       "20871            None            None         None       None    2023-09-25   \n",
       "20898            None            None         None       None    2023-09-25   \n",
       "\n",
       "        url  \n",
       "20779  None  \n",
       "20784  None  \n",
       "20785  None  \n",
       "20786  None  \n",
       "20789  None  \n",
       "20790  None  \n",
       "20791  None  \n",
       "20792  None  \n",
       "20794  None  \n",
       "20796  None  \n",
       "20800  None  \n",
       "20807  None  \n",
       "20835  None  \n",
       "20869  None  \n",
       "20871  None  \n",
       "20898  None  "
      ]
     },
     "execution_count": 168,
     "metadata": {},
     "output_type": "execute_result"
    }
   ],
   "source": [
    "empty_rows = new_df[new_df[\"title\"].isna()==True]\n",
    "empty_rows"
   ]
  },
  {
   "cell_type": "code",
   "execution_count": 145,
   "metadata": {},
   "outputs": [
    {
     "name": "stdout",
     "output_type": "stream",
     "text": [
      "https://www.linkedin.com/jobs-guest/jobs/api/jobPosting/3718984435\n",
      "https://www.linkedin.com/jobs-guest/jobs/api/jobPosting/3716462365\n",
      "https://www.linkedin.com/jobs-guest/jobs/api/jobPosting/3701555920\n",
      "https://www.linkedin.com/jobs-guest/jobs/api/jobPosting/3714883910\n",
      "https://www.linkedin.com/jobs-guest/jobs/api/jobPosting/3709369178\n",
      "https://www.linkedin.com/jobs-guest/jobs/api/jobPosting/3722015348\n",
      "https://www.linkedin.com/jobs-guest/jobs/api/jobPosting/3702308160\n"
     ]
    }
   ],
   "source": [
    "empty_id_list = empty_rows['id'].tolist()\n",
    "\n",
    "for id in empty_id_list:\n",
    "    print(f\"https://www.linkedin.com/jobs-guest/jobs/api/jobPosting/{id}\")"
   ]
  },
  {
   "cell_type": "code",
   "execution_count": 195,
   "metadata": {},
   "outputs": [],
   "source": [
    "def null_value_cleaner(df, rounds):\n",
    "    null_counter = df['title'].isna().sum()\n",
    "    sleeptime = 2000\n",
    "    for i in range(rounds):\n",
    "        if null_counter == 0:\n",
    "            print(f\"Finished in round {id}\")\n",
    "            return df\n",
    "        else:\n",
    "            df = prep.second_request_empty_values(df, max_sleeptime = sleeptime)\n",
    "            null_counter = df['title'].isna().sum()\n",
    "            print(f\"Round{i}: {null_counter} empty values left\")\n",
    "            sleeptime += 500\n",
    "    return df"
   ]
  },
  {
   "cell_type": "code",
   "execution_count": 197,
   "metadata": {},
   "outputs": [
    {
     "name": "stderr",
     "output_type": "stream",
     "text": [
      "100%|██████████| 206/206 [06:52<00:00,  2.00s/it]\n",
      "100%|██████████| 206/206 [00:06<00:00, 30.50it/s]\n"
     ]
    },
    {
     "name": "stdout",
     "output_type": "stream",
     "text": [
      "Round0: 57 empty values left\n"
     ]
    },
    {
     "name": "stderr",
     "output_type": "stream",
     "text": [
      "100%|██████████| 57/57 [02:11<00:00,  2.31s/it]\n",
      "100%|██████████| 57/57 [00:00<00:00, 57.42it/s]\n"
     ]
    },
    {
     "name": "stdout",
     "output_type": "stream",
     "text": [
      "Round1: 0 empty values left\n",
      "Finished in round 3702308160\n"
     ]
    }
   ],
   "source": [
    "cleaned_df = null_value_cleaner(df, 4)"
   ]
  },
  {
   "cell_type": "code",
   "execution_count": 189,
   "metadata": {},
   "outputs": [
    {
     "data": {
      "text/plain": [
       "None"
      ]
     },
     "metadata": {},
     "output_type": "display_data"
    }
   ],
   "source": [
    "display(cleaned_df)"
   ]
  },
  {
   "cell_type": "code",
   "execution_count": 212,
   "metadata": {},
   "outputs": [],
   "source": [
    "small_dict = {}\n",
    "for key in keyword_dict:\n",
    "    small_dict[key] = keyword_dict[key][0]"
   ]
  },
  {
   "cell_type": "code",
   "execution_count": 215,
   "metadata": {},
   "outputs": [],
   "source": [
    "def search_keyword(x, dict):\n",
    "    for key in dict:\n",
    "        if x == dict:\n",
    "            y = dict[item]\n",
    "            return y\n",
    "        else:\n",
    "            y = 'unknown'\n",
    "    return y"
   ]
  },
  {
   "cell_type": "code",
   "execution_count": 223,
   "metadata": {},
   "outputs": [],
   "source": [
    "cleaned_df['keyword'] = cleaned_df['id'].map(small_dict)"
   ]
  },
  {
   "cell_type": "code",
   "execution_count": 221,
   "metadata": {},
   "outputs": [
    {
     "ename": "NameError",
     "evalue": "name 'myNLP' is not defined",
     "output_type": "error",
     "traceback": [
      "\u001b[1;31m---------------------------------------------------------------------------\u001b[0m",
      "\u001b[1;31mNameError\u001b[0m                                 Traceback (most recent call last)",
      "\u001b[1;32mc:\\Users\\Domen\\IronHack\\01_projects\\IH_final_project_data-jobs\\redesign_database.ipynb Cell 21\u001b[0m line \u001b[0;36m1\n\u001b[1;32m----> <a href='vscode-notebook-cell:/c%3A/Users/Domen/IronHack/01_projects/IH_final_project_data-jobs/redesign_database.ipynb#Y110sZmlsZQ%3D%3D?line=0'>1</a>\u001b[0m cleaned_df \u001b[39m=\u001b[39m myNLP\u001b[39m.\u001b[39madd_language_values_to_df(cleaned_df, search_column \u001b[39m=\u001b[39m \u001b[39m'\u001b[39m\u001b[39mjob_description\u001b[39m\u001b[39m'\u001b[39m) \u001b[39m# add language values \u001b[39;00m\n",
      "\u001b[1;31mNameError\u001b[0m: name 'myNLP' is not defined"
     ]
    }
   ],
   "source": [
    "cleaned_df = myNLP.add_language_values_to_df(cleaned_df, search_column = 'job_description') # add language values \n"
   ]
  },
  {
   "cell_type": "code",
   "execution_count": 224,
   "metadata": {},
   "outputs": [],
   "source": [
    "prep.save_cleaned_df(cleaned_df, 'cleaned_df')"
   ]
  }
 ],
 "metadata": {
  "kernelspec": {
   "display_name": "myenv",
   "language": "python",
   "name": "python3"
  },
  "language_info": {
   "codemirror_mode": {
    "name": "ipython",
    "version": 3
   },
   "file_extension": ".py",
   "mimetype": "text/x-python",
   "name": "python",
   "nbconvert_exporter": "python",
   "pygments_lexer": "ipython3",
   "version": "3.11.5"
  },
  "orig_nbformat": 4
 },
 "nbformat": 4,
 "nbformat_minor": 2
}
