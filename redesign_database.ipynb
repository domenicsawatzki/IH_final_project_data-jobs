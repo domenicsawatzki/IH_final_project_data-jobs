{
 "cells": [
  {
   "cell_type": "code",
   "execution_count": 105,
   "metadata": {},
   "outputs": [
    {
     "name": "stdout",
     "output_type": "stream",
     "text": [
      "The autoreload extension is already loaded. To reload it, use:\n",
      "  %reload_ext autoreload\n"
     ]
    }
   ],
   "source": [
    "import winsound\n",
    "import pygame\n",
    "from bs4 import BeautifulSoup, NavigableString\n",
    "import requests\n",
    "from time import sleep\n",
    "from random import randint\n",
    "import math\n",
    "from tqdm import tqdm\n",
    "import pickle\n",
    "import pandas as pd\n",
    "from datetime import date\n",
    "from datetime import datetime\n",
    "import json\n",
    "\n",
    "import pymysql                        # for getting data from a SQL database\n",
    "from sqlalchemy import create_engine, text  # for establishing the connection and authentication\n",
    "import zlib\n",
    "\n",
    "from webscraper.scrap_modules import scraper_ds as mybib\n",
    "from webscraper.scrap_modules import prep as prep\n",
    "\n",
    "%load_ext autoreload\n",
    "%autoreload 2"
   ]
  },
  {
   "cell_type": "code",
   "execution_count": 106,
   "metadata": {},
   "outputs": [],
   "source": [
    "# def get_job_information(soup):    \n",
    "#     class_soup = soup.find(\"ul\", {\"class\":\"description__job-criteria-list\"}).find_all('span')\n",
    "#     list = []\n",
    "#     for x in class_soup:\n",
    "#         list.append(x.text.strip())\n",
    "    \n",
    "#     return list"
   ]
  },
  {
   "cell_type": "code",
   "execution_count": 107,
   "metadata": {},
   "outputs": [],
   "source": [
    "# def get_all_job_information(id, response, scrap_date):\n",
    "\n",
    "#     soup = BeautifulSoup(response.content, \"html.parser\")\n",
    "#     job_dict = {}\n",
    "#     job_dict['id'] = id\n",
    "#     try:\n",
    "#         job_dict['title'] = soup.find('h2', class_='top-card-layout__title').text.strip()\n",
    "#     except:\n",
    "#         job_dict['title'] = None\n",
    "#         print(\"Error: in 'title'\")\n",
    "        \n",
    "#     try:    \n",
    "#         job_dict['company'] = soup.find(\"div\",{\"class\":\"top-card-layout__card\"}).find(\"a\").find(\"img\").get('alt')\n",
    "#     except:\n",
    "#         job_dict['company'] = None\n",
    "#         print(\"Error: in 'company'\")\n",
    "        \n",
    "#     try:    \n",
    "#         job_dict['city'] = soup.find(\"span\",{\"class\":\"topcard__flavor topcard__flavor--bullet\"}).text.strip()\n",
    "#     except:\n",
    "#         job_dict['city'] = None\n",
    "#         print(\"Error: in 'city'\")\n",
    "#     try:\n",
    "#         job_dict['posting_date'] = soup.find(\"span\", {\"class\":\"posted-time-ago__text\"}).text.strip()\n",
    "#     except:\n",
    "#         job_dict['posting_date'] = None\n",
    "#         print(\"Error: in 'posting date'\")\n",
    "        \n",
    "#     try:    \n",
    "#         job_dict['job_description'] = soup.find(\"section\",{\"class\":\"show-more-less-html\"}).text.strip()\n",
    "\n",
    "#     except:\n",
    "#         job_dict['job_description'] = None\n",
    "#         print(\"Error: in 'job description'\")\n",
    "\n",
    "#     try:    \n",
    "#         x = get_job_information(soup)        \n",
    "#         job_dict['seniority_level'] = x[0]\n",
    "#         job_dict['employment_type'] = x[1]\n",
    "#         job_dict['job_function'] = x[2]\n",
    "#         job_dict['industries'] = x[3]\n",
    "#     except:\n",
    "#         print(f\"Error: get job information in id {id}\")\n",
    "#         job_dict['seniority_level'] = None\n",
    "#         job_dict['employment_type'] = None\n",
    "#         job_dict['job_function'] = None\n",
    "#         job_dict['industries'] = None\n",
    "    \n",
    "#     try:    \n",
    "#         job_dict['scraping_date'] = scrap_date\n",
    "#     except:\n",
    "#         job_dict['scraping_date'] = None \n",
    "    \n",
    "#     try:\n",
    "#         name = job_dict['title']\n",
    "#         name = name.replace(\" \", \"%20\")\n",
    "#         company = job_dict['company']\n",
    "#         company = company.replace(\" \", \"%20\")\n",
    "#         job_dict['url'] = f\"https://www.linkedin.com/jobs/search?keywords={name}%20{company}&location=Berlin%2C%20Berlin%2C%20Germany&geoId=&trk=public_jobs_jobs-search-bar_search-submit&position=1&pageNum=0\"\n",
    "#     except:\n",
    "#         job_dict['url'] = None \n",
    "    \n",
    "                        \n",
    "\n",
    "#     return job_dict"
   ]
  },
  {
   "cell_type": "markdown",
   "metadata": {},
   "source": [
    "### load scraped raw data"
   ]
  },
  {
   "cell_type": "code",
   "execution_count": 108,
   "metadata": {},
   "outputs": [],
   "source": [
    "with open(\"webscraper/webscrap_data/soup_dict.pkl\", \"rb\") as f:\n",
    "    scraper_dict = pickle.load(f)"
   ]
  },
  {
   "cell_type": "code",
   "execution_count": 109,
   "metadata": {},
   "outputs": [
    {
     "data": {
      "text/plain": [
       "20061"
      ]
     },
     "execution_count": 109,
     "metadata": {},
     "output_type": "execute_result"
    }
   ],
   "source": [
    "len(scraper_dict)"
   ]
  },
  {
   "cell_type": "markdown",
   "metadata": {},
   "source": [
    "### transform scraped raw data into df "
   ]
  },
  {
   "cell_type": "code",
   "execution_count": 110,
   "metadata": {},
   "outputs": [
    {
     "name": "stderr",
     "output_type": "stream",
     "text": [
      "  2%|▏         | 419/20061 [00:15<09:04, 36.10it/s]  "
     ]
    },
    {
     "name": "stdout",
     "output_type": "stream",
     "text": [
      "Error: in 'title'\n",
      "Error: in 'company'\n",
      "Error: in 'city'\n",
      "Error: in 'posting date'\n",
      "Error: in 'job description'\n"
     ]
    },
    {
     "name": "stderr",
     "output_type": "stream",
     "text": [
      "  2%|▏         | 471/20061 [00:16<09:53, 32.98it/s]"
     ]
    },
    {
     "name": "stdout",
     "output_type": "stream",
     "text": [
      "Error: in 'title'\n",
      "Error: in 'company'\n",
      "Error: in 'city'\n",
      "Error: in 'posting date'\n",
      "Error: in 'job description'\n"
     ]
    },
    {
     "name": "stderr",
     "output_type": "stream",
     "text": [
      " 17%|█▋        | 3354/20061 [01:50<07:57, 34.95it/s]  "
     ]
    },
    {
     "name": "stdout",
     "output_type": "stream",
     "text": [
      "Error: in 'title'\n",
      "Error: in 'company'\n",
      "Error: in 'city'\n",
      "Error: in 'posting date'\n",
      "Error: in 'job description'\n"
     ]
    },
    {
     "name": "stderr",
     "output_type": "stream",
     "text": [
      " 40%|████      | 8111/20061 [04:34<06:01, 33.07it/s]  "
     ]
    },
    {
     "name": "stdout",
     "output_type": "stream",
     "text": [
      "Error: in 'title'\n",
      "Error: in 'company'\n",
      "Error: in 'city'\n",
      "Error: in 'posting date'\n",
      "Error: in 'job description'\n"
     ]
    },
    {
     "name": "stderr",
     "output_type": "stream",
     "text": [
      " 42%|████▏     | 8336/20061 [04:41<05:22, 36.30it/s]"
     ]
    },
    {
     "name": "stdout",
     "output_type": "stream",
     "text": [
      "Error: in 'title'\n",
      "Error: in 'company'\n",
      "Error: in 'city'\n",
      "Error: in 'posting date'\n",
      "Error: in 'job description'\n",
      "Error: in 'title'\n",
      "Error: in 'company'\n",
      "Error: in 'city'\n",
      "Error: in 'posting date'\n",
      "Error: in 'job description'\n"
     ]
    },
    {
     "name": "stderr",
     "output_type": "stream",
     "text": [
      " 44%|████▍     | 8842/20061 [04:57<05:22, 34.75it/s]"
     ]
    },
    {
     "name": "stdout",
     "output_type": "stream",
     "text": [
      "Error: in 'title'\n",
      "Error: in 'company'\n",
      "Error: in 'city'\n",
      "Error: in 'posting date'\n",
      "Error: in 'job description'\n",
      "Error: in 'title'\n",
      "Error: in 'company'\n",
      "Error: in 'city'\n",
      "Error: in 'posting date'\n",
      "Error: in 'job description'\n"
     ]
    },
    {
     "name": "stderr",
     "output_type": "stream",
     "text": [
      " 44%|████▍     | 8874/20061 [05:02<36:35,  5.10it/s]"
     ]
    },
    {
     "name": "stdout",
     "output_type": "stream",
     "text": [
      "Error: in 'title'\n",
      "Error: in 'company'\n",
      "Error: in 'city'\n",
      "Error: in 'posting date'\n",
      "Error: in 'job description'\n",
      "Error: in 'title'\n",
      "Error: in 'company'\n",
      "Error: in 'city'\n",
      "Error: in 'posting date'\n",
      "Error: in 'job description'\n"
     ]
    },
    {
     "name": "stderr",
     "output_type": "stream",
     "text": [
      " 45%|████▌     | 9049/20061 [05:07<05:17, 34.68it/s]"
     ]
    },
    {
     "name": "stdout",
     "output_type": "stream",
     "text": [
      "Error: in 'title'\n",
      "Error: in 'company'\n",
      "Error: in 'city'\n",
      "Error: in 'posting date'\n",
      "Error: in 'job description'\n",
      "Error: in 'title'\n",
      "Error: in 'company'\n",
      "Error: in 'city'\n",
      "Error: in 'posting date'\n",
      "Error: in 'job description'\n"
     ]
    },
    {
     "name": "stderr",
     "output_type": "stream",
     "text": [
      " 48%|████▊     | 9598/20061 [05:25<04:59, 34.96it/s]"
     ]
    },
    {
     "name": "stdout",
     "output_type": "stream",
     "text": [
      "Error: in 'title'\n",
      "Error: in 'company'\n",
      "Error: in 'city'\n",
      "Error: in 'posting date'\n",
      "Error: in 'job description'\n"
     ]
    },
    {
     "name": "stderr",
     "output_type": "stream",
     "text": [
      " 49%|████▉     | 9832/20061 [05:35<08:59, 18.95it/s]"
     ]
    },
    {
     "name": "stdout",
     "output_type": "stream",
     "text": [
      "Error: in 'title'\n",
      "Error: in 'company'\n",
      "Error: in 'city'\n",
      "Error: in 'posting date'\n",
      "Error: in 'job description'\n"
     ]
    },
    {
     "name": "stderr",
     "output_type": "stream",
     "text": [
      " 50%|████▉     | 9988/20061 [05:40<05:08, 32.66it/s]"
     ]
    },
    {
     "name": "stdout",
     "output_type": "stream",
     "text": [
      "Error: in 'title'\n",
      "Error: in 'company'\n",
      "Error: in 'city'\n",
      "Error: in 'posting date'\n",
      "Error: in 'job description'\n"
     ]
    },
    {
     "name": "stderr",
     "output_type": "stream",
     "text": [
      " 51%|█████     | 10248/20061 [05:49<04:57, 33.00it/s]"
     ]
    },
    {
     "name": "stdout",
     "output_type": "stream",
     "text": [
      "Error: in 'title'\n",
      "Error: in 'company'\n",
      "Error: in 'city'\n",
      "Error: in 'posting date'\n",
      "Error: in 'job description'\n"
     ]
    },
    {
     "name": "stderr",
     "output_type": "stream",
     "text": [
      " 56%|█████▌    | 11135/20061 [06:21<04:29, 33.17it/s]"
     ]
    },
    {
     "name": "stdout",
     "output_type": "stream",
     "text": [
      "Error: in 'title'\n",
      "Error: in 'company'\n",
      "Error: in 'city'\n",
      "Error: in 'posting date'\n",
      "Error: in 'job description'\n",
      "Error: in 'title'\n",
      "Error: in 'company'\n",
      "Error: in 'city'\n",
      "Error: in 'posting date'\n",
      "Error: in 'job description'\n"
     ]
    },
    {
     "name": "stderr",
     "output_type": "stream",
     "text": [
      " 56%|█████▌    | 11147/20061 [06:21<04:44, 31.36it/s]"
     ]
    },
    {
     "name": "stdout",
     "output_type": "stream",
     "text": [
      "Error: in 'title'\n",
      "Error: in 'company'\n",
      "Error: in 'city'\n",
      "Error: in 'posting date'\n",
      "Error: in 'job description'\n"
     ]
    },
    {
     "name": "stderr",
     "output_type": "stream",
     "text": [
      " 56%|█████▌    | 11155/20061 [06:22<04:59, 29.75it/s]"
     ]
    },
    {
     "name": "stdout",
     "output_type": "stream",
     "text": [
      "Error: in 'title'\n",
      "Error: in 'company'\n",
      "Error: in 'city'\n",
      "Error: in 'posting date'\n",
      "Error: in 'job description'\n"
     ]
    },
    {
     "name": "stderr",
     "output_type": "stream",
     "text": [
      " 56%|█████▌    | 11163/20061 [06:22<04:32, 32.66it/s]"
     ]
    },
    {
     "name": "stdout",
     "output_type": "stream",
     "text": [
      "Error: in 'title'\n",
      "Error: in 'company'\n",
      "Error: in 'city'\n",
      "Error: in 'posting date'\n",
      "Error: in 'job description'\n",
      "Error: in 'title'\n",
      "Error: in 'company'\n",
      "Error: in 'city'\n",
      "Error: in 'posting date'\n",
      "Error: in 'job description'\n"
     ]
    },
    {
     "name": "stderr",
     "output_type": "stream",
     "text": [
      " 56%|█████▌    | 11210/20061 [06:23<04:05, 36.02it/s]"
     ]
    },
    {
     "name": "stdout",
     "output_type": "stream",
     "text": [
      "Error: in 'title'\n",
      "Error: in 'company'\n",
      "Error: in 'city'\n",
      "Error: in 'posting date'\n",
      "Error: in 'job description'\n",
      "Error: in 'title'\n",
      "Error: in 'company'\n",
      "Error: in 'city'\n",
      "Error: in 'posting date'\n",
      "Error: in 'job description'\n"
     ]
    },
    {
     "name": "stderr",
     "output_type": "stream",
     "text": [
      " 56%|█████▌    | 11242/20061 [06:24<04:30, 32.61it/s]"
     ]
    },
    {
     "name": "stdout",
     "output_type": "stream",
     "text": [
      "Error: in 'title'\n",
      "Error: in 'company'\n",
      "Error: in 'city'\n",
      "Error: in 'posting date'\n",
      "Error: in 'job description'\n"
     ]
    },
    {
     "name": "stderr",
     "output_type": "stream",
     "text": [
      " 56%|█████▌    | 11264/20061 [06:25<04:36, 31.82it/s]"
     ]
    },
    {
     "name": "stdout",
     "output_type": "stream",
     "text": [
      "Error: in 'title'\n",
      "Error: in 'company'\n",
      "Error: in 'city'\n",
      "Error: in 'posting date'\n",
      "Error: in 'job description'\n"
     ]
    },
    {
     "name": "stderr",
     "output_type": "stream",
     "text": [
      " 56%|█████▋    | 11331/20061 [06:28<04:47, 30.41it/s]"
     ]
    },
    {
     "name": "stdout",
     "output_type": "stream",
     "text": [
      "Error: in 'title'\n",
      "Error: in 'company'\n",
      "Error: in 'city'\n",
      "Error: in 'posting date'\n",
      "Error: in 'job description'\n"
     ]
    },
    {
     "name": "stderr",
     "output_type": "stream",
     "text": [
      " 57%|█████▋    | 11522/20061 [06:34<03:48, 37.31it/s]"
     ]
    },
    {
     "name": "stdout",
     "output_type": "stream",
     "text": [
      "Error: in 'title'\n",
      "Error: in 'company'\n",
      "Error: in 'city'\n",
      "Error: in 'posting date'\n",
      "Error: in 'job description'\n",
      "Error: in 'title'\n",
      "Error: in 'company'\n",
      "Error: in 'city'\n",
      "Error: in 'posting date'\n",
      "Error: in 'job description'\n",
      "Error: in 'title'\n",
      "Error: in 'company'\n",
      "Error: in 'city'\n",
      "Error: in 'posting date'\n",
      "Error: in 'job description'\n",
      "Error: in 'title'\n",
      "Error: in 'company'\n",
      "Error: in 'city'\n",
      "Error: in 'posting date'\n",
      "Error: in 'job description'\n"
     ]
    },
    {
     "name": "stderr",
     "output_type": "stream",
     "text": [
      " 57%|█████▋    | 11526/20061 [06:34<03:54, 36.42it/s]"
     ]
    },
    {
     "name": "stdout",
     "output_type": "stream",
     "text": [
      "Error: in 'title'\n",
      "Error: in 'company'\n",
      "Error: in 'city'\n",
      "Error: in 'posting date'\n",
      "Error: in 'job description'\n"
     ]
    },
    {
     "name": "stderr",
     "output_type": "stream",
     "text": [
      " 58%|█████▊    | 11694/20061 [06:43<04:19, 32.30it/s]"
     ]
    },
    {
     "name": "stdout",
     "output_type": "stream",
     "text": [
      "Error: in 'title'\n",
      "Error: in 'company'\n",
      "Error: in 'city'\n",
      "Error: in 'posting date'\n",
      "Error: in 'job description'\n"
     ]
    },
    {
     "name": "stderr",
     "output_type": "stream",
     "text": [
      " 59%|█████▊    | 11757/20061 [06:45<04:24, 31.45it/s]"
     ]
    },
    {
     "name": "stdout",
     "output_type": "stream",
     "text": [
      "Error: in 'title'\n",
      "Error: in 'company'\n",
      "Error: in 'city'\n",
      "Error: in 'posting date'\n",
      "Error: in 'job description'\n"
     ]
    },
    {
     "name": "stderr",
     "output_type": "stream",
     "text": [
      " 59%|█████▊    | 11785/20061 [06:46<04:09, 33.16it/s]"
     ]
    },
    {
     "name": "stdout",
     "output_type": "stream",
     "text": [
      "Error: in 'title'\n",
      "Error: in 'company'\n",
      "Error: in 'city'\n",
      "Error: in 'posting date'\n",
      "Error: in 'job description'\n"
     ]
    },
    {
     "name": "stderr",
     "output_type": "stream",
     "text": [
      " 60%|██████    | 12076/20061 [06:56<04:17, 31.00it/s]"
     ]
    },
    {
     "name": "stdout",
     "output_type": "stream",
     "text": [
      "Error: in 'title'\n",
      "Error: in 'company'\n",
      "Error: in 'city'\n",
      "Error: in 'posting date'\n",
      "Error: in 'job description'\n"
     ]
    },
    {
     "name": "stderr",
     "output_type": "stream",
     "text": [
      " 61%|██████▏   | 12322/20061 [07:04<03:39, 35.22it/s]"
     ]
    },
    {
     "name": "stdout",
     "output_type": "stream",
     "text": [
      "Error: in 'title'\n",
      "Error: in 'company'\n",
      "Error: in 'city'\n",
      "Error: in 'posting date'\n",
      "Error: in 'job description'\n",
      "Error: in 'title'\n",
      "Error: in 'company'\n",
      "Error: in 'city'\n",
      "Error: in 'posting date'\n",
      "Error: in 'job description'\n"
     ]
    },
    {
     "name": "stderr",
     "output_type": "stream",
     "text": [
      " 62%|██████▏   | 12386/20061 [07:06<03:52, 32.96it/s]"
     ]
    },
    {
     "name": "stdout",
     "output_type": "stream",
     "text": [
      "Error: in 'title'\n",
      "Error: in 'company'\n",
      "Error: in 'city'\n",
      "Error: in 'posting date'\n",
      "Error: in 'job description'\n"
     ]
    },
    {
     "name": "stderr",
     "output_type": "stream",
     "text": [
      " 62%|██████▏   | 12445/20061 [07:08<04:00, 31.64it/s]"
     ]
    },
    {
     "name": "stdout",
     "output_type": "stream",
     "text": [
      "Error: in 'title'\n",
      "Error: in 'company'\n",
      "Error: in 'city'\n",
      "Error: in 'posting date'\n",
      "Error: in 'job description'\n"
     ]
    },
    {
     "name": "stderr",
     "output_type": "stream",
     "text": [
      " 63%|██████▎   | 12548/20061 [07:15<03:29, 35.82it/s]"
     ]
    },
    {
     "name": "stdout",
     "output_type": "stream",
     "text": [
      "Error: in 'title'\n",
      "Error: in 'company'\n",
      "Error: in 'city'\n",
      "Error: in 'posting date'\n",
      "Error: in 'job description'\n",
      "Error: in 'title'\n",
      "Error: in 'company'\n",
      "Error: in 'city'\n",
      "Error: in 'posting date'\n",
      "Error: in 'job description'\n",
      "Error: in 'title'\n",
      "Error: in 'company'\n",
      "Error: in 'city'\n",
      "Error: in 'posting date'\n",
      "Error: in 'job description'\n"
     ]
    },
    {
     "name": "stderr",
     "output_type": "stream",
     "text": [
      " 63%|██████▎   | 12664/20061 [07:18<03:53, 31.61it/s]"
     ]
    },
    {
     "name": "stdout",
     "output_type": "stream",
     "text": [
      "Error: in 'title'\n",
      "Error: in 'company'\n",
      "Error: in 'city'\n",
      "Error: in 'posting date'\n",
      "Error: in 'job description'\n"
     ]
    },
    {
     "name": "stderr",
     "output_type": "stream",
     "text": [
      " 66%|██████▌   | 13246/20061 [07:38<03:44, 30.34it/s]"
     ]
    },
    {
     "name": "stdout",
     "output_type": "stream",
     "text": [
      "Error: in 'title'\n",
      "Error: in 'company'\n",
      "Error: in 'city'\n",
      "Error: in 'posting date'\n",
      "Error: in 'job description'\n"
     ]
    },
    {
     "name": "stderr",
     "output_type": "stream",
     "text": [
      " 66%|██████▌   | 13289/20061 [07:40<03:40, 30.64it/s]"
     ]
    },
    {
     "name": "stdout",
     "output_type": "stream",
     "text": [
      "Error: in 'title'\n",
      "Error: in 'company'\n",
      "Error: in 'city'\n",
      "Error: in 'posting date'\n",
      "Error: in 'job description'\n"
     ]
    },
    {
     "name": "stderr",
     "output_type": "stream",
     "text": [
      " 67%|██████▋   | 13454/20061 [07:49<03:14, 34.04it/s]"
     ]
    },
    {
     "name": "stdout",
     "output_type": "stream",
     "text": [
      "Error: in 'title'\n",
      "Error: in 'company'\n",
      "Error: in 'city'\n",
      "Error: in 'posting date'\n",
      "Error: in 'job description'\n"
     ]
    },
    {
     "name": "stderr",
     "output_type": "stream",
     "text": [
      " 67%|██████▋   | 13466/20061 [07:49<03:15, 33.67it/s]"
     ]
    },
    {
     "name": "stdout",
     "output_type": "stream",
     "text": [
      "Error: in 'title'\n",
      "Error: in 'company'\n",
      "Error: in 'city'\n",
      "Error: in 'posting date'\n",
      "Error: in 'job description'\n"
     ]
    },
    {
     "name": "stderr",
     "output_type": "stream",
     "text": [
      " 68%|██████▊   | 13682/20061 [07:56<03:27, 30.69it/s]"
     ]
    },
    {
     "name": "stdout",
     "output_type": "stream",
     "text": [
      "Error: in 'title'\n",
      "Error: in 'company'\n",
      "Error: in 'city'\n",
      "Error: in 'posting date'\n",
      "Error: in 'job description'\n"
     ]
    },
    {
     "name": "stderr",
     "output_type": "stream",
     "text": [
      " 69%|██████▉   | 13804/20061 [08:01<03:25, 30.38it/s]"
     ]
    },
    {
     "name": "stdout",
     "output_type": "stream",
     "text": [
      "Error: in 'title'\n",
      "Error: in 'company'\n",
      "Error: in 'city'\n",
      "Error: in 'posting date'\n",
      "Error: in 'job description'\n"
     ]
    },
    {
     "name": "stderr",
     "output_type": "stream",
     "text": [
      " 70%|███████   | 14112/20061 [08:12<03:21, 29.48it/s]"
     ]
    },
    {
     "name": "stdout",
     "output_type": "stream",
     "text": [
      "Error: in 'title'\n",
      "Error: in 'company'\n",
      "Error: in 'city'\n",
      "Error: in 'posting date'\n",
      "Error: in 'job description'\n"
     ]
    },
    {
     "name": "stderr",
     "output_type": "stream",
     "text": [
      " 73%|███████▎  | 14593/20061 [08:31<02:50, 32.03it/s]"
     ]
    },
    {
     "name": "stdout",
     "output_type": "stream",
     "text": [
      "Error: in 'title'\n",
      "Error: in 'company'\n",
      "Error: in 'city'\n",
      "Error: in 'posting date'\n",
      "Error: in 'job description'\n",
      "Error: in 'title'\n",
      "Error: in 'company'\n",
      "Error: in 'city'\n",
      "Error: in 'posting date'\n",
      "Error: in 'job description'\n"
     ]
    },
    {
     "name": "stderr",
     "output_type": "stream",
     "text": [
      " 74%|███████▎  | 14758/20061 [08:37<02:51, 31.00it/s]"
     ]
    },
    {
     "name": "stdout",
     "output_type": "stream",
     "text": [
      "Error: in 'title'\n",
      "Error: in 'company'\n",
      "Error: in 'city'\n",
      "Error: in 'posting date'\n",
      "Error: in 'job description'\n"
     ]
    },
    {
     "name": "stderr",
     "output_type": "stream",
     "text": [
      " 74%|███████▍  | 14801/20061 [08:39<02:44, 32.03it/s]"
     ]
    },
    {
     "name": "stdout",
     "output_type": "stream",
     "text": [
      "Error: in 'title'\n",
      "Error: in 'company'\n",
      "Error: in 'city'\n",
      "Error: in 'posting date'\n",
      "Error: in 'job description'\n"
     ]
    },
    {
     "name": "stderr",
     "output_type": "stream",
     "text": [
      " 75%|███████▍  | 15000/20061 [08:46<02:48, 30.12it/s]"
     ]
    },
    {
     "name": "stdout",
     "output_type": "stream",
     "text": [
      "Error: in 'title'\n",
      "Error: in 'company'\n",
      "Error: in 'city'\n",
      "Error: in 'posting date'\n",
      "Error: in 'job description'\n"
     ]
    },
    {
     "name": "stderr",
     "output_type": "stream",
     "text": [
      " 75%|███████▌  | 15099/20061 [08:52<09:59,  8.28it/s]"
     ]
    },
    {
     "name": "stdout",
     "output_type": "stream",
     "text": [
      "Error: in 'title'\n",
      "Error: in 'company'\n",
      "Error: in 'city'\n",
      "Error: in 'posting date'\n",
      "Error: in 'job description'\n",
      "Error: in 'title'\n",
      "Error: in 'company'\n",
      "Error: in 'city'\n",
      "Error: in 'posting date'\n",
      "Error: in 'job description'\n"
     ]
    },
    {
     "name": "stderr",
     "output_type": "stream",
     "text": [
      " 77%|███████▋  | 15435/20061 [09:04<02:33, 30.18it/s]"
     ]
    },
    {
     "name": "stdout",
     "output_type": "stream",
     "text": [
      "Error: in 'title'\n",
      "Error: in 'company'\n",
      "Error: in 'city'\n",
      "Error: in 'posting date'\n",
      "Error: in 'job description'\n"
     ]
    },
    {
     "name": "stderr",
     "output_type": "stream",
     "text": [
      " 77%|███████▋  | 15499/20061 [09:06<02:04, 36.61it/s]"
     ]
    },
    {
     "name": "stdout",
     "output_type": "stream",
     "text": [
      "Error: in 'title'\n",
      "Error: in 'company'\n",
      "Error: in 'city'\n",
      "Error: in 'posting date'\n",
      "Error: in 'job description'\n",
      "Error: in 'title'\n",
      "Error: in 'company'\n",
      "Error: in 'city'\n",
      "Error: in 'posting date'\n",
      "Error: in 'job description'\n",
      "Error: in 'title'\n",
      "Error: in 'company'\n",
      "Error: in 'city'\n",
      "Error: in 'posting date'\n",
      "Error: in 'job description'\n",
      "Error: in 'title'\n",
      "Error: in 'company'\n",
      "Error: in 'city'\n",
      "Error: in 'posting date'\n",
      "Error: in 'job description'\n",
      "Error: in 'title'\n",
      "Error: in 'company'\n",
      "Error: in 'city'\n",
      "Error: in 'posting date'\n",
      "Error: in 'job description'\n",
      "Error: in 'title'\n",
      "Error: in 'company'\n",
      "Error: in 'city'\n",
      "Error: in 'posting date'\n",
      "Error: in 'job description'\n"
     ]
    },
    {
     "name": "stderr",
     "output_type": "stream",
     "text": [
      " 77%|███████▋  | 15512/20061 [09:07<02:05, 36.25it/s]"
     ]
    },
    {
     "name": "stdout",
     "output_type": "stream",
     "text": [
      "Error: in 'title'\n",
      "Error: in 'company'\n",
      "Error: in 'city'\n",
      "Error: in 'posting date'\n",
      "Error: in 'job description'\n",
      "Error: in 'title'\n",
      "Error: in 'company'\n",
      "Error: in 'city'\n",
      "Error: in 'posting date'\n",
      "Error: in 'job description'\n",
      "Error: in 'title'\n",
      "Error: in 'company'\n",
      "Error: in 'city'\n",
      "Error: in 'posting date'\n",
      "Error: in 'job description'\n",
      "Error: in 'title'\n",
      "Error: in 'company'\n",
      "Error: in 'city'\n",
      "Error: in 'posting date'\n",
      "Error: in 'job description'\n",
      "Error: in 'title'\n",
      "Error: in 'company'\n",
      "Error: in 'city'\n",
      "Error: in 'posting date'\n",
      "Error: in 'job description'\n"
     ]
    },
    {
     "name": "stderr",
     "output_type": "stream",
     "text": [
      " 77%|███████▋  | 15535/20061 [09:07<02:12, 34.16it/s]"
     ]
    },
    {
     "name": "stdout",
     "output_type": "stream",
     "text": [
      "Error: in 'title'\n",
      "Error: in 'company'\n",
      "Error: in 'city'\n",
      "Error: in 'posting date'\n",
      "Error: in 'job description'\n",
      "Error: in 'title'\n",
      "Error: in 'company'\n",
      "Error: in 'city'\n",
      "Error: in 'posting date'\n",
      "Error: in 'job description'\n"
     ]
    },
    {
     "name": "stderr",
     "output_type": "stream",
     "text": [
      " 77%|███████▋  | 15545/20061 [09:08<01:58, 37.96it/s]"
     ]
    },
    {
     "name": "stdout",
     "output_type": "stream",
     "text": [
      "Error: in 'title'\n",
      "Error: in 'company'\n",
      "Error: in 'city'\n",
      "Error: in 'posting date'\n",
      "Error: in 'job description'\n",
      "Error: in 'title'\n",
      "Error: in 'company'\n",
      "Error: in 'city'\n",
      "Error: in 'posting date'\n",
      "Error: in 'job description'\n",
      "Error: in 'title'\n",
      "Error: in 'company'\n",
      "Error: in 'city'\n",
      "Error: in 'posting date'\n",
      "Error: in 'job description'\n",
      "Error: in 'title'\n",
      "Error: in 'company'\n",
      "Error: in 'city'\n",
      "Error: in 'posting date'\n",
      "Error: in 'job description'\n",
      "Error: in 'title'\n",
      "Error: in 'company'\n",
      "Error: in 'city'\n",
      "Error: in 'posting date'\n",
      "Error: in 'job description'\n"
     ]
    },
    {
     "name": "stderr",
     "output_type": "stream",
     "text": [
      " 78%|███████▊  | 15614/20061 [09:10<02:25, 30.58it/s]"
     ]
    },
    {
     "name": "stdout",
     "output_type": "stream",
     "text": [
      "Error: in 'title'\n",
      "Error: in 'company'\n",
      "Error: in 'city'\n",
      "Error: in 'posting date'\n",
      "Error: in 'job description'\n",
      "Error: in 'title'\n",
      "Error: in 'company'\n",
      "Error: in 'city'\n",
      "Error: in 'posting date'\n",
      "Error: in 'job description'\n"
     ]
    },
    {
     "name": "stderr",
     "output_type": "stream",
     "text": [
      " 80%|████████  | 16125/20061 [09:31<02:02, 32.06it/s]"
     ]
    },
    {
     "name": "stdout",
     "output_type": "stream",
     "text": [
      "Error: in 'title'\n",
      "Error: in 'company'\n",
      "Error: in 'city'\n",
      "Error: in 'posting date'\n",
      "Error: in 'job description'\n",
      "Error: in 'title'\n",
      "Error: in 'company'\n",
      "Error: in 'city'\n",
      "Error: in 'posting date'\n",
      "Error: in 'job description'\n"
     ]
    },
    {
     "name": "stderr",
     "output_type": "stream",
     "text": [
      " 81%|████████  | 16243/20061 [09:35<02:14, 28.37it/s]"
     ]
    },
    {
     "name": "stdout",
     "output_type": "stream",
     "text": [
      "Error: in 'title'\n",
      "Error: in 'company'\n",
      "Error: in 'city'\n",
      "Error: in 'posting date'\n",
      "Error: in 'job description'\n"
     ]
    },
    {
     "name": "stderr",
     "output_type": "stream",
     "text": [
      " 82%|████████▏ | 16465/20061 [09:43<01:48, 33.17it/s]"
     ]
    },
    {
     "name": "stdout",
     "output_type": "stream",
     "text": [
      "Error: in 'title'\n",
      "Error: in 'company'\n",
      "Error: in 'city'\n",
      "Error: in 'posting date'\n",
      "Error: in 'job description'\n",
      "Error: in 'title'\n",
      "Error: in 'company'\n",
      "Error: in 'city'\n",
      "Error: in 'posting date'\n",
      "Error: in 'job description'\n",
      "Error: in 'title'\n",
      "Error: in 'company'\n",
      "Error: in 'city'\n",
      "Error: in 'posting date'\n",
      "Error: in 'job description'\n"
     ]
    },
    {
     "name": "stderr",
     "output_type": "stream",
     "text": [
      " 82%|████████▏ | 16506/20061 [09:45<01:51, 31.92it/s]"
     ]
    },
    {
     "name": "stdout",
     "output_type": "stream",
     "text": [
      "Error: in 'title'\n",
      "Error: in 'company'\n",
      "Error: in 'city'\n",
      "Error: in 'posting date'\n",
      "Error: in 'job description'\n",
      "Error: in 'title'\n",
      "Error: in 'company'\n",
      "Error: in 'city'\n",
      "Error: in 'posting date'\n",
      "Error: in 'job description'\n",
      "Error: in 'title'\n",
      "Error: in 'company'\n",
      "Error: in 'city'\n",
      "Error: in 'posting date'\n",
      "Error: in 'job description'\n",
      "Error: in 'title'\n",
      "Error: in 'company'\n",
      "Error: in 'city'\n",
      "Error: in 'posting date'\n",
      "Error: in 'job description'\n"
     ]
    },
    {
     "name": "stderr",
     "output_type": "stream",
     "text": [
      " 83%|████████▎ | 16603/20061 [09:48<01:59, 28.86it/s]"
     ]
    },
    {
     "name": "stdout",
     "output_type": "stream",
     "text": [
      "Error: in 'title'\n",
      "Error: in 'company'\n",
      "Error: in 'city'\n",
      "Error: in 'posting date'\n",
      "Error: in 'job description'\n"
     ]
    },
    {
     "name": "stderr",
     "output_type": "stream",
     "text": [
      " 85%|████████▌ | 17111/20061 [10:10<01:26, 33.94it/s]"
     ]
    },
    {
     "name": "stdout",
     "output_type": "stream",
     "text": [
      "Error: in 'title'\n",
      "Error: in 'company'\n",
      "Error: in 'city'\n",
      "Error: in 'posting date'\n",
      "Error: in 'job description'\n",
      "Error: in 'title'\n",
      "Error: in 'company'\n",
      "Error: in 'city'\n",
      "Error: in 'posting date'\n",
      "Error: in 'job description'\n",
      "Error: in 'title'\n",
      "Error: in 'company'\n",
      "Error: in 'city'\n",
      "Error: in 'posting date'\n",
      "Error: in 'job description'\n"
     ]
    },
    {
     "name": "stderr",
     "output_type": "stream",
     "text": [
      " 85%|████████▌ | 17127/20061 [10:10<01:36, 30.43it/s]"
     ]
    },
    {
     "name": "stdout",
     "output_type": "stream",
     "text": [
      "Error: in 'title'\n",
      "Error: in 'company'\n",
      "Error: in 'city'\n",
      "Error: in 'posting date'\n",
      "Error: in 'job description'\n"
     ]
    },
    {
     "name": "stderr",
     "output_type": "stream",
     "text": [
      " 86%|████████▌ | 17202/20061 [10:13<01:39, 28.86it/s]"
     ]
    },
    {
     "name": "stdout",
     "output_type": "stream",
     "text": [
      "Error: in 'title'\n",
      "Error: in 'company'\n",
      "Error: in 'city'\n",
      "Error: in 'posting date'\n",
      "Error: in 'job description'\n"
     ]
    },
    {
     "name": "stderr",
     "output_type": "stream",
     "text": [
      " 87%|████████▋ | 17483/20061 [10:23<01:30, 28.60it/s]"
     ]
    },
    {
     "name": "stdout",
     "output_type": "stream",
     "text": [
      "Error: in 'title'\n",
      "Error: in 'company'\n",
      "Error: in 'city'\n",
      "Error: in 'posting date'\n",
      "Error: in 'job description'\n",
      "Error: in 'title'\n",
      "Error: in 'company'\n",
      "Error: in 'city'\n",
      "Error: in 'posting date'\n",
      "Error: in 'job description'\n"
     ]
    },
    {
     "name": "stderr",
     "output_type": "stream",
     "text": [
      " 87%|████████▋ | 17494/20061 [10:23<01:28, 29.14it/s]"
     ]
    },
    {
     "name": "stdout",
     "output_type": "stream",
     "text": [
      "Error: in 'title'\n",
      "Error: in 'company'\n",
      "Error: in 'city'\n",
      "Error: in 'posting date'\n",
      "Error: in 'job description'\n"
     ]
    },
    {
     "name": "stderr",
     "output_type": "stream",
     "text": [
      " 88%|████████▊ | 17586/20061 [10:27<01:28, 28.08it/s]"
     ]
    },
    {
     "name": "stdout",
     "output_type": "stream",
     "text": [
      "Error: in 'title'\n",
      "Error: in 'company'\n",
      "Error: in 'city'\n",
      "Error: in 'posting date'\n",
      "Error: in 'job description'\n"
     ]
    },
    {
     "name": "stderr",
     "output_type": "stream",
     "text": [
      " 88%|████████▊ | 17736/20061 [10:35<01:44, 22.15it/s]"
     ]
    },
    {
     "name": "stdout",
     "output_type": "stream",
     "text": [
      "Error: in 'title'\n",
      "Error: in 'company'\n",
      "Error: in 'city'\n",
      "Error: in 'posting date'\n",
      "Error: in 'job description'\n"
     ]
    },
    {
     "name": "stderr",
     "output_type": "stream",
     "text": [
      " 89%|████████▉ | 17822/20061 [10:38<01:15, 29.66it/s]"
     ]
    },
    {
     "name": "stdout",
     "output_type": "stream",
     "text": [
      "Error: in 'title'\n",
      "Error: in 'company'\n",
      "Error: in 'city'\n",
      "Error: in 'posting date'\n",
      "Error: in 'job description'\n"
     ]
    },
    {
     "name": "stderr",
     "output_type": "stream",
     "text": [
      " 89%|████████▉ | 17835/20061 [10:39<01:17, 28.79it/s]"
     ]
    },
    {
     "name": "stdout",
     "output_type": "stream",
     "text": [
      "Error: in 'title'\n",
      "Error: in 'company'\n",
      "Error: in 'city'\n",
      "Error: in 'posting date'\n",
      "Error: in 'job description'\n"
     ]
    },
    {
     "name": "stderr",
     "output_type": "stream",
     "text": [
      " 89%|████████▉ | 17936/20061 [10:43<01:12, 29.20it/s]"
     ]
    },
    {
     "name": "stdout",
     "output_type": "stream",
     "text": [
      "Error: in 'title'\n",
      "Error: in 'company'\n",
      "Error: in 'city'\n",
      "Error: in 'posting date'\n",
      "Error: in 'job description'\n"
     ]
    },
    {
     "name": "stderr",
     "output_type": "stream",
     "text": [
      " 90%|█████████ | 18100/20061 [10:49<01:09, 28.40it/s]"
     ]
    },
    {
     "name": "stdout",
     "output_type": "stream",
     "text": [
      "Error: in 'title'\n",
      "Error: in 'company'\n",
      "Error: in 'city'\n",
      "Error: in 'posting date'\n",
      "Error: in 'job description'\n"
     ]
    },
    {
     "name": "stderr",
     "output_type": "stream",
     "text": [
      " 91%|█████████ | 18224/20061 [10:53<01:05, 28.12it/s]"
     ]
    },
    {
     "name": "stdout",
     "output_type": "stream",
     "text": [
      "Error: in 'title'\n",
      "Error: in 'company'\n",
      "Error: in 'city'\n",
      "Error: in 'posting date'\n",
      "Error: in 'job description'\n"
     ]
    },
    {
     "name": "stderr",
     "output_type": "stream",
     "text": [
      " 93%|█████████▎| 18610/20061 [11:10<00:46, 31.14it/s]"
     ]
    },
    {
     "name": "stdout",
     "output_type": "stream",
     "text": [
      "Error: in 'title'\n",
      "Error: in 'company'\n",
      "Error: in 'city'\n",
      "Error: in 'posting date'\n",
      "Error: in 'job description'\n",
      "Error: in 'title'\n",
      "Error: in 'company'\n",
      "Error: in 'city'\n",
      "Error: in 'posting date'\n",
      "Error: in 'job description'\n",
      "Error: in 'title'\n",
      "Error: in 'company'\n",
      "Error: in 'city'\n",
      "Error: in 'posting date'\n",
      "Error: in 'job description'\n",
      "Error: in 'title'\n",
      "Error: in 'company'\n",
      "Error: in 'city'\n",
      "Error: in 'posting date'\n",
      "Error: in 'job description'\n"
     ]
    },
    {
     "name": "stderr",
     "output_type": "stream",
     "text": [
      " 94%|█████████▍| 18849/20061 [11:19<00:41, 29.44it/s]"
     ]
    },
    {
     "name": "stdout",
     "output_type": "stream",
     "text": [
      "Error: in 'title'\n",
      "Error: in 'company'\n",
      "Error: in 'city'\n",
      "Error: in 'posting date'\n",
      "Error: in 'job description'\n"
     ]
    },
    {
     "name": "stderr",
     "output_type": "stream",
     "text": [
      " 94%|█████████▍| 18933/20061 [11:22<00:41, 27.39it/s]"
     ]
    },
    {
     "name": "stdout",
     "output_type": "stream",
     "text": [
      "Error: in 'title'\n",
      "Error: in 'company'\n",
      "Error: in 'city'\n",
      "Error: in 'posting date'\n",
      "Error: in 'job description'\n"
     ]
    },
    {
     "name": "stderr",
     "output_type": "stream",
     "text": [
      " 95%|█████████▌| 19120/20061 [11:29<00:31, 29.67it/s]"
     ]
    },
    {
     "name": "stdout",
     "output_type": "stream",
     "text": [
      "Error: in 'title'\n",
      "Error: in 'company'\n",
      "Error: in 'city'\n",
      "Error: in 'posting date'\n",
      "Error: in 'job description'\n",
      "Error: in 'title'\n",
      "Error: in 'company'\n",
      "Error: in 'city'\n",
      "Error: in 'posting date'\n",
      "Error: in 'job description'\n"
     ]
    },
    {
     "name": "stderr",
     "output_type": "stream",
     "text": [
      " 96%|█████████▌| 19192/20061 [11:32<00:27, 31.22it/s]"
     ]
    },
    {
     "name": "stdout",
     "output_type": "stream",
     "text": [
      "Error: in 'title'\n",
      "Error: in 'company'\n",
      "Error: in 'city'\n",
      "Error: in 'posting date'\n",
      "Error: in 'job description'\n",
      "Error: in 'title'\n",
      "Error: in 'company'\n",
      "Error: in 'city'\n",
      "Error: in 'posting date'\n",
      "Error: in 'job description'\n"
     ]
    },
    {
     "name": "stderr",
     "output_type": "stream",
     "text": [
      " 96%|█████████▌| 19239/20061 [11:34<00:29, 27.73it/s]"
     ]
    },
    {
     "name": "stdout",
     "output_type": "stream",
     "text": [
      "Error: in 'title'\n",
      "Error: in 'company'\n",
      "Error: in 'city'\n",
      "Error: in 'posting date'\n",
      "Error: in 'job description'\n"
     ]
    },
    {
     "name": "stderr",
     "output_type": "stream",
     "text": [
      " 96%|█████████▌| 19246/20061 [11:34<00:29, 27.62it/s]"
     ]
    },
    {
     "name": "stdout",
     "output_type": "stream",
     "text": [
      "Error: in 'title'\n",
      "Error: in 'company'\n",
      "Error: in 'city'\n",
      "Error: in 'posting date'\n",
      "Error: in 'job description'\n"
     ]
    },
    {
     "name": "stderr",
     "output_type": "stream",
     "text": [
      " 96%|█████████▌| 19265/20061 [11:34<00:27, 28.59it/s]"
     ]
    },
    {
     "name": "stdout",
     "output_type": "stream",
     "text": [
      "Error: in 'title'\n",
      "Error: in 'company'\n",
      "Error: in 'city'\n",
      "Error: in 'posting date'\n",
      "Error: in 'job description'\n"
     ]
    },
    {
     "name": "stderr",
     "output_type": "stream",
     "text": [
      " 97%|█████████▋| 19457/20061 [11:44<00:21, 28.70it/s]"
     ]
    },
    {
     "name": "stdout",
     "output_type": "stream",
     "text": [
      "Error: in 'title'\n",
      "Error: in 'company'\n",
      "Error: in 'city'\n",
      "Error: in 'posting date'\n",
      "Error: in 'job description'\n"
     ]
    },
    {
     "name": "stderr",
     "output_type": "stream",
     "text": [
      " 97%|█████████▋| 19507/20061 [11:45<00:15, 35.22it/s]"
     ]
    },
    {
     "name": "stdout",
     "output_type": "stream",
     "text": [
      "Error: in 'title'\n",
      "Error: in 'company'\n",
      "Error: in 'city'\n",
      "Error: in 'posting date'\n",
      "Error: in 'job description'\n",
      "Error: in 'title'\n",
      "Error: in 'company'\n",
      "Error: in 'city'\n",
      "Error: in 'posting date'\n",
      "Error: in 'job description'\n",
      "Error: in 'title'\n",
      "Error: in 'company'\n",
      "Error: in 'city'\n",
      "Error: in 'posting date'\n",
      "Error: in 'job description'\n"
     ]
    },
    {
     "name": "stderr",
     "output_type": "stream",
     "text": [
      " 98%|█████████▊| 19618/20061 [11:49<00:15, 28.93it/s]"
     ]
    },
    {
     "name": "stdout",
     "output_type": "stream",
     "text": [
      "Error: in 'title'\n",
      "Error: in 'company'\n",
      "Error: in 'city'\n",
      "Error: in 'posting date'\n",
      "Error: in 'job description'\n"
     ]
    },
    {
     "name": "stderr",
     "output_type": "stream",
     "text": [
      " 99%|█████████▊| 19794/20061 [11:56<00:09, 29.62it/s]"
     ]
    },
    {
     "name": "stdout",
     "output_type": "stream",
     "text": [
      "Error: in 'title'\n",
      "Error: in 'company'\n",
      "Error: in 'city'\n",
      "Error: in 'posting date'\n",
      "Error: in 'job description'\n",
      "Error: in 'title'\n",
      "Error: in 'company'\n",
      "Error: in 'city'\n",
      "Error: in 'posting date'\n",
      "Error: in 'job description'\n"
     ]
    },
    {
     "name": "stderr",
     "output_type": "stream",
     "text": [
      " 99%|█████████▉| 19817/20061 [11:57<00:08, 30.21it/s]"
     ]
    },
    {
     "name": "stdout",
     "output_type": "stream",
     "text": [
      "Error: in 'title'\n",
      "Error: in 'company'\n",
      "Error: in 'city'\n",
      "Error: in 'posting date'\n",
      "Error: in 'job description'\n",
      "Error: in 'title'\n",
      "Error: in 'company'\n",
      "Error: in 'city'\n",
      "Error: in 'posting date'\n",
      "Error: in 'job description'\n",
      "Error: in 'title'\n",
      "Error: in 'company'\n",
      "Error: in 'city'\n",
      "Error: in 'posting date'\n",
      "Error: in 'job description'\n"
     ]
    },
    {
     "name": "stderr",
     "output_type": "stream",
     "text": [
      " 99%|█████████▉| 19849/20061 [11:58<00:07, 28.54it/s]"
     ]
    },
    {
     "name": "stdout",
     "output_type": "stream",
     "text": [
      "Error: in 'title'\n",
      "Error: in 'company'\n",
      "Error: in 'city'\n",
      "Error: in 'posting date'\n",
      "Error: in 'job description'\n",
      "Error: in 'title'\n",
      "Error: in 'company'\n",
      "Error: in 'city'\n",
      "Error: in 'posting date'\n",
      "Error: in 'job description'\n",
      "Error: in 'title'\n",
      "Error: in 'company'\n",
      "Error: in 'city'\n",
      "Error: in 'posting date'\n",
      "Error: in 'job description'\n",
      "Error: in 'title'\n",
      "Error: in 'company'\n",
      "Error: in 'city'\n",
      "Error: in 'posting date'\n",
      "Error: in 'job description'\n"
     ]
    },
    {
     "name": "stderr",
     "output_type": "stream",
     "text": [
      "100%|██████████| 20061/20061 [12:06<00:00, 27.61it/s]\n"
     ]
    }
   ],
   "source": [
    "df = prep.transform_scrap_data_to_df(scraper_dict)"
   ]
  },
  {
   "cell_type": "markdown",
   "metadata": {},
   "source": [
    "### second scrap for empty rows"
   ]
  },
  {
   "cell_type": "code",
   "execution_count": 111,
   "metadata": {},
   "outputs": [
    {
     "ename": "NameError",
     "evalue": "name 'requests' is not defined",
     "output_type": "error",
     "traceback": [
      "\u001b[1;31m---------------------------------------------------------------------------\u001b[0m",
      "\u001b[1;31mNameError\u001b[0m                                 Traceback (most recent call last)",
      "\u001b[1;32mc:\\Users\\Domen\\IronHack\\01_projects\\IH_final_project_data-jobs\\redesign_database.ipynb Cell 10\u001b[0m line \u001b[0;36m1\n\u001b[1;32m----> <a href='vscode-notebook-cell:/c%3A/Users/Domen/IronHack/01_projects/IH_final_project_data-jobs/redesign_database.ipynb#X32sZmlsZQ%3D%3D?line=0'>1</a>\u001b[0m new_df \u001b[39m=\u001b[39m prep\u001b[39m.\u001b[39;49msecond_request_empty_values(df)\n",
      "File \u001b[1;32mc:\\Users\\Domen\\IronHack\\01_projects\\IH_final_project_data-jobs\\webscraper\\scrap_modules\\prep.py:108\u001b[0m, in \u001b[0;36msecond_request_empty_values\u001b[1;34m(df)\u001b[0m\n\u001b[0;32m    106\u001b[0m request_dict \u001b[39m=\u001b[39m {}\n\u001b[0;32m    107\u001b[0m \u001b[39mfor\u001b[39;00m \u001b[39mid\u001b[39m \u001b[39min\u001b[39;00m second_requests:\n\u001b[1;32m--> 108\u001b[0m         response \u001b[39m=\u001b[39m requests\u001b[39m.\u001b[39mget(\u001b[39mf\u001b[39m\u001b[39m'\u001b[39m\u001b[39mhttps://www.linkedin.com/jobs-guest/jobs/api/jobPosting/\u001b[39m\u001b[39m{\u001b[39;00m\u001b[39mid\u001b[39m\u001b[39m}\u001b[39;00m\u001b[39m'\u001b[39m)\n\u001b[0;32m    109\u001b[0m         wait_time \u001b[39m=\u001b[39m randint(\u001b[39m1\u001b[39m,\u001b[39m500\u001b[39m)\n\u001b[0;32m    110\u001b[0m         sleep(wait_time\u001b[39m/\u001b[39m\u001b[39m1000\u001b[39m)\n",
      "\u001b[1;31mNameError\u001b[0m: name 'requests' is not defined"
     ]
    }
   ],
   "source": [
    "new_df = prep.second_request_empty_values(df)"
   ]
  },
  {
   "cell_type": "code",
   "execution_count": null,
   "metadata": {},
   "outputs": [],
   "source": [
    "# def transform_scrap_data_to_df(dict):\n",
    "#     columns = ['id','title', 'company', 'city', 'posting_date', 'job_description', 'seniority_level', 'employment_type', 'job_function', 'industries', 'scraping_date', 'url']\n",
    "#     df = pd.DataFrame(columns=columns)\n",
    "\n",
    "#     for key in tqdm(dict):\n",
    "#         id = key\n",
    "#         response = dict[key]['response']\n",
    "#         scrap_date = dict[key][\"scrap_date\"]\n",
    "#         new_dict = get_all_job_information(id, response, scrap_date)\n",
    "        \n",
    "#         new_row_df = pd.DataFrame([new_dict])\n",
    "#         df = pd.concat([df, new_row_df], ignore_index=True)\n",
    "\n",
    "#     return(df)"
   ]
  },
  {
   "cell_type": "code",
   "execution_count": null,
   "metadata": {},
   "outputs": [],
   "source": [
    "# scraper_df = transform_scrap_data_to_df(scraper_dict)"
   ]
  },
  {
   "cell_type": "code",
   "execution_count": null,
   "metadata": {},
   "outputs": [],
   "source": [
    "# with open(\"webscraper/webscrap_data/temp_df.pkl\", \"wb\") as f:\n",
    "#     pickle.dump(scraper_df, f) "
   ]
  },
  {
   "cell_type": "code",
   "execution_count": null,
   "metadata": {},
   "outputs": [],
   "source": [
    "# columns = scraper_df.columns\n",
    "\n",
    "# for col in columns: \n",
    "#     print(f\"{scraper_df[col].isna().sum()} null values for {col}\")\n",
    "    "
   ]
  },
  {
   "cell_type": "markdown",
   "metadata": {},
   "source": [
    "### Second request empty rows\n"
   ]
  },
  {
   "cell_type": "code",
   "execution_count": null,
   "metadata": {},
   "outputs": [],
   "source": [
    "# isnafilter = scraper_df[scraper_df[\"title\"].isna()]\n",
    "# isnafilter"
   ]
  },
  {
   "cell_type": "code",
   "execution_count": null,
   "metadata": {},
   "outputs": [],
   "source": [
    "# second_request_list = isnafilter[\"id\"].tolist()"
   ]
  },
  {
   "cell_type": "code",
   "execution_count": null,
   "metadata": {},
   "outputs": [],
   "source": [
    "# # second request for empty rows\n",
    "\n",
    "# second_request_dict = {}\n",
    "\n",
    "# for id in second_request_list:\n",
    "#     response = requests.get(f'https://www.linkedin.com/jobs-guest/jobs/api/jobPosting/{id}')\n",
    "#     wait_time = randint(1,500)\n",
    "#     sleep(wait_time/1000)\n",
    "\n",
    "#     dict2 = {}\n",
    "#     dict2[\"scrap_date\"] = date.today()\n",
    "# #     dict2[\"response\"] = response\n",
    "#     second_request_dict[id] = dict2"
   ]
  },
  {
   "cell_type": "code",
   "execution_count": null,
   "metadata": {},
   "outputs": [],
   "source": [
    "# second_request_dict"
   ]
  },
  {
   "cell_type": "code",
   "execution_count": null,
   "metadata": {},
   "outputs": [],
   "source": [
    "# second_request_df = transform_scrap_data_to_df(second_request_dict)\n",
    "# second_request_df"
   ]
  }
 ],
 "metadata": {
  "kernelspec": {
   "display_name": "myenv",
   "language": "python",
   "name": "python3"
  },
  "language_info": {
   "codemirror_mode": {
    "name": "ipython",
    "version": 3
   },
   "file_extension": ".py",
   "mimetype": "text/x-python",
   "name": "python",
   "nbconvert_exporter": "python",
   "pygments_lexer": "ipython3",
   "version": "3.11.5"
  },
  "orig_nbformat": 4
 },
 "nbformat": 4,
 "nbformat_minor": 2
}
