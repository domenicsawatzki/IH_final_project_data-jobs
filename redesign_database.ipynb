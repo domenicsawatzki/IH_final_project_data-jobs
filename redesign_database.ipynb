{
 "cells": [
  {
   "cell_type": "code",
   "execution_count": 36,
   "metadata": {},
   "outputs": [],
   "source": [
    "import winsound\n",
    "import pygame\n",
    "from bs4 import BeautifulSoup, NavigableString\n",
    "import requests\n",
    "from time import sleep\n",
    "from random import randint\n",
    "import math\n",
    "from tqdm import tqdm\n",
    "import pickle\n",
    "import pandas as pd\n",
    "from datetime import date\n",
    "from datetime import datetime\n",
    "import json\n",
    "\n",
    "import pymysql                        # for getting data from a SQL database\n",
    "from sqlalchemy import create_engine, text  # for establishing the connection and authentication\n",
    "import zlib\n",
    "\n",
    "from webscraper.scrap_modules import scraper_ds as mybib\n"
   ]
  },
  {
   "cell_type": "code",
   "execution_count": 37,
   "metadata": {},
   "outputs": [],
   "source": [
    "def get_job_information(soup):    \n",
    "    class_soup = soup.find(\"ul\", {\"class\":\"description__job-criteria-list\"}).find_all('span')\n",
    "    list = []\n",
    "    for x in class_soup:\n",
    "        list.append(x.text.strip())\n",
    "    \n",
    "    return list"
   ]
  },
  {
   "cell_type": "code",
   "execution_count": 38,
   "metadata": {},
   "outputs": [],
   "source": [
    "def get_all_job_information(id, response):\n",
    "\n",
    "    soup = BeautifulSoup(response.content, \"html.parser\")\n",
    "    job_dict = {}\n",
    "    job_dict['id'] = id\n",
    "    try:\n",
    "        job_dict['title'] = soup.find('h2', class_='top-card-layout__title').text.strip()\n",
    "    except:\n",
    "        job_dict['title'] = None\n",
    "        print(\"Error: in 'title'\")\n",
    "        \n",
    "    try:    \n",
    "        job_dict['company'] = soup.find(\"div\",{\"class\":\"top-card-layout__card\"}).find(\"a\").find(\"img\").get('alt')\n",
    "    except:\n",
    "        job_dict['company'] = None\n",
    "        print(\"Error: in 'company'\")\n",
    "        \n",
    "    try:    \n",
    "        job_dict['city'] = soup.find(\"span\",{\"class\":\"topcard__flavor topcard__flavor--bullet\"}).text.strip()\n",
    "    except:\n",
    "        job_dict['city'] = None\n",
    "        print(\"Error: in 'city'\")\n",
    "    try:\n",
    "        job_dict['posting_date'] = soup.find(\"span\", {\"class\":\"posted-time-ago__text\"}).text.strip()\n",
    "    except:\n",
    "        job_dict['posting_date'] = None\n",
    "        print(\"Error: in 'posting date'\")\n",
    "        \n",
    "    try:    \n",
    "        job_dict['job_description'] = soup.find(\"section\",{\"class\":\"show-more-less-html\"}).text.strip()\n",
    "\n",
    "    except:\n",
    "        job_dict['job_description'] = None\n",
    "        print(\"Error: in 'job description'\")\n",
    "        \n",
    "    # try:\n",
    "    #     job_dict['seniority_level'] = soup.find(\"span\", {\"class\":\"description__job-criteria-text\"}).text.strip()\n",
    "    # except: \n",
    "    #     job_dict['seniority_level'] = None\n",
    "    #     print(\"Error: in 'seniority level'\")\n",
    "\n",
    "    try:    \n",
    "        x = get_job_information(soup)        \n",
    "        job_dict['seniority_level'] = x[0]\n",
    "        job_dict['employment_type'] = x[1]\n",
    "        job_dict['job_function'] = x[2]\n",
    "        job_dict['industries'] = x[3]\n",
    "    except:\n",
    "        print(f\"Error: get job information in id {id}\")\n",
    "        job_dict['seniority_level'] = None\n",
    "        job_dict['employment_type'] = None\n",
    "        job_dict['job_function'] = None\n",
    "        job_dict['industries'] = None\n",
    "    \n",
    "    try:    \n",
    "        job_dict['scraping_date'] = date.today()\n",
    "    except:\n",
    "        job_dict['scraping_date'] = None \n",
    "    \n",
    "    try:\n",
    "        name = job_dict['title']\n",
    "        name = name.replace(\" \", \"%20\")\n",
    "        company = job_dict['company']\n",
    "        company = company.replace(\" \", \"%20\")\n",
    "        job_dict['url'] = f\"https://www.linkedin.com/jobs/search?keywords={name}%20{company}&location=Berlin%2C%20Berlin%2C%20Germany&geoId=&trk=public_jobs_jobs-search-bar_search-submit&position=1&pageNum=0\"\n",
    "    except:\n",
    "        job_dict['url'] = None \n",
    "    \n",
    "                        \n",
    "\n",
    "    return job_dict"
   ]
  },
  {
   "cell_type": "code",
   "execution_count": null,
   "metadata": {},
   "outputs": [],
   "source": []
  },
  {
   "cell_type": "code",
   "execution_count": 39,
   "metadata": {},
   "outputs": [],
   "source": [
    "with open(\"webscraper/webscrap_data/soup_dict.pkl\", \"rb\") as f:\n",
    "    dict = pickle.load(f)"
   ]
  },
  {
   "cell_type": "code",
   "execution_count": 40,
   "metadata": {},
   "outputs": [
    {
     "data": {
      "text/plain": [
       "[<span class=\"description__job-criteria-text description__job-criteria-text--criteria\">\n",
       "           Full-time\n",
       "         </span>]"
      ]
     },
     "execution_count": 40,
     "metadata": {},
     "output_type": "execute_result"
    }
   ],
   "source": [
    "response = dict['3719980381']\n",
    "\n",
    "soup = BeautifulSoup(response.content, \"html.parser\")\n",
    "soup.find(\"ul\", {\"class\":\"description__job-criteria-list\"}).find_all('span')"
   ]
  },
  {
   "cell_type": "code",
   "execution_count": 41,
   "metadata": {},
   "outputs": [
    {
     "data": {
      "text/plain": [
       "['Full-time']"
      ]
     },
     "execution_count": 41,
     "metadata": {},
     "output_type": "execute_result"
    }
   ],
   "source": [
    "class_soup = soup.find(\"ul\", {\"class\":\"description__job-criteria-list\"}).find_all('span')\n",
    "list = []\n",
    "for x in class_soup:\n",
    "    list.append(x.text.strip())\n",
    "\n",
    "list"
   ]
  },
  {
   "cell_type": "code",
   "execution_count": 42,
   "metadata": {},
   "outputs": [
    {
     "name": "stderr",
     "output_type": "stream",
     "text": [
      "  0%|          | 4/4236 [00:00<02:00, 35.00it/s]"
     ]
    },
    {
     "name": "stderr",
     "output_type": "stream",
     "text": [
      "  5%|▍         | 211/4236 [00:06<01:54, 35.01it/s]"
     ]
    },
    {
     "name": "stdout",
     "output_type": "stream",
     "text": [
      "Error: get job information in id 3720767266\n"
     ]
    },
    {
     "name": "stderr",
     "output_type": "stream",
     "text": [
      "  6%|▋         | 272/4236 [00:08<01:49, 36.20it/s]"
     ]
    },
    {
     "name": "stdout",
     "output_type": "stream",
     "text": [
      "Error: get job information in id 3724886020\n"
     ]
    },
    {
     "name": "stderr",
     "output_type": "stream",
     "text": [
      "  9%|▉         | 401/4236 [00:12<01:51, 34.38it/s]"
     ]
    },
    {
     "name": "stdout",
     "output_type": "stream",
     "text": [
      "Error: get job information in id 3725222266\n"
     ]
    },
    {
     "name": "stderr",
     "output_type": "stream",
     "text": [
      " 10%|▉         | 417/4236 [00:13<02:46, 22.98it/s]"
     ]
    },
    {
     "name": "stdout",
     "output_type": "stream",
     "text": [
      "Error: in 'title'\n",
      "Error: in 'company'\n",
      "Error: in 'city'\n",
      "Error: in 'posting date'\n",
      "Error: in 'job description'\n",
      "Error: get job information in id 3723903886\n"
     ]
    },
    {
     "name": "stderr",
     "output_type": "stream",
     "text": [
      " 11%|█         | 469/4236 [00:14<01:52, 33.35it/s]"
     ]
    },
    {
     "name": "stdout",
     "output_type": "stream",
     "text": [
      "Error: in 'title'\n",
      "Error: in 'company'\n",
      "Error: in 'city'\n",
      "Error: in 'posting date'\n",
      "Error: in 'job description'\n",
      "Error: get job information in id 3723207688\n"
     ]
    },
    {
     "name": "stderr",
     "output_type": "stream",
     "text": [
      " 13%|█▎        | 546/4236 [00:16<01:39, 37.02it/s]"
     ]
    },
    {
     "name": "stdout",
     "output_type": "stream",
     "text": [
      "Error: get job information in id 3723217572\n"
     ]
    },
    {
     "name": "stderr",
     "output_type": "stream",
     "text": [
      " 14%|█▍        | 599/4236 [00:18<01:47, 33.91it/s]"
     ]
    },
    {
     "name": "stdout",
     "output_type": "stream",
     "text": [
      "Error: get job information in id 3725917705\n"
     ]
    },
    {
     "name": "stderr",
     "output_type": "stream",
     "text": [
      " 19%|█▊        | 791/4236 [00:24<01:35, 36.22it/s]"
     ]
    },
    {
     "name": "stdout",
     "output_type": "stream",
     "text": [
      "Error: get job information in id 3725423657\n"
     ]
    },
    {
     "name": "stderr",
     "output_type": "stream",
     "text": [
      " 20%|█▉        | 831/4236 [00:25<02:23, 23.73it/s]"
     ]
    },
    {
     "name": "stdout",
     "output_type": "stream",
     "text": [
      "Error: get job information in id 3723727229\n"
     ]
    },
    {
     "name": "stderr",
     "output_type": "stream",
     "text": [
      " 20%|█▉        | 843/4236 [00:26<01:58, 28.57it/s]"
     ]
    },
    {
     "name": "stdout",
     "output_type": "stream",
     "text": [
      "Error: get job information in id 3713736468\n"
     ]
    },
    {
     "name": "stderr",
     "output_type": "stream",
     "text": [
      " 20%|██        | 867/4236 [00:27<01:36, 34.91it/s]"
     ]
    },
    {
     "name": "stdout",
     "output_type": "stream",
     "text": [
      "Error: get job information in id 3725919899\n"
     ]
    },
    {
     "name": "stderr",
     "output_type": "stream",
     "text": [
      " 23%|██▎       | 983/4236 [00:30<01:50, 29.49it/s]"
     ]
    },
    {
     "name": "stdout",
     "output_type": "stream",
     "text": [
      "Error: get job information in id 3725917963\n"
     ]
    },
    {
     "name": "stderr",
     "output_type": "stream",
     "text": [
      " 27%|██▋       | 1161/4236 [00:36<01:31, 33.61it/s]"
     ]
    },
    {
     "name": "stdout",
     "output_type": "stream",
     "text": [
      "Error: get job information in id 3723201125\n"
     ]
    },
    {
     "name": "stderr",
     "output_type": "stream",
     "text": [
      " 28%|██▊       | 1185/4236 [00:37<01:29, 34.26it/s]"
     ]
    },
    {
     "name": "stdout",
     "output_type": "stream",
     "text": [
      "Error: get job information in id 3725784099\n"
     ]
    },
    {
     "name": "stderr",
     "output_type": "stream",
     "text": [
      " 29%|██▉       | 1246/4236 [00:39<01:24, 35.54it/s]"
     ]
    },
    {
     "name": "stdout",
     "output_type": "stream",
     "text": [
      "Error: get job information in id 3715835725\n"
     ]
    },
    {
     "name": "stderr",
     "output_type": "stream",
     "text": [
      " 30%|███       | 1278/4236 [00:40<01:20, 36.66it/s]"
     ]
    },
    {
     "name": "stdout",
     "output_type": "stream",
     "text": [
      "Error: get job information in id 3724477363\n",
      "Error: get job information in id 3723795255\n"
     ]
    },
    {
     "name": "stderr",
     "output_type": "stream",
     "text": [
      " 31%|███       | 1294/4236 [00:40<01:20, 36.52it/s]"
     ]
    },
    {
     "name": "stdout",
     "output_type": "stream",
     "text": [
      "Error: get job information in id 3724115231\n"
     ]
    },
    {
     "name": "stderr",
     "output_type": "stream",
     "text": [
      " 32%|███▏      | 1374/4236 [00:43<01:23, 34.38it/s]"
     ]
    },
    {
     "name": "stdout",
     "output_type": "stream",
     "text": [
      "Error: get job information in id 3723681487\n"
     ]
    },
    {
     "name": "stderr",
     "output_type": "stream",
     "text": [
      " 38%|███▊      | 1593/4236 [00:49<01:40, 26.26it/s]"
     ]
    },
    {
     "name": "stdout",
     "output_type": "stream",
     "text": [
      "Error: get job information in id 3701046932\n"
     ]
    },
    {
     "name": "stderr",
     "output_type": "stream",
     "text": [
      " 39%|███▊      | 1637/4236 [00:51<01:15, 34.37it/s]"
     ]
    },
    {
     "name": "stdout",
     "output_type": "stream",
     "text": [
      "Error: get job information in id 3719360244\n"
     ]
    },
    {
     "name": "stderr",
     "output_type": "stream",
     "text": [
      " 40%|███▉      | 1681/4236 [00:52<01:12, 35.16it/s]"
     ]
    },
    {
     "name": "stdout",
     "output_type": "stream",
     "text": [
      "Error: get job information in id 3709260065\n"
     ]
    },
    {
     "name": "stderr",
     "output_type": "stream",
     "text": [
      " 41%|████▏     | 1750/4236 [00:54<01:08, 36.44it/s]"
     ]
    },
    {
     "name": "stdout",
     "output_type": "stream",
     "text": [
      "Error: get job information in id 3719980381\n"
     ]
    },
    {
     "name": "stderr",
     "output_type": "stream",
     "text": [
      " 45%|████▍     | 1886/4236 [00:58<01:06, 35.58it/s]"
     ]
    },
    {
     "name": "stdout",
     "output_type": "stream",
     "text": [
      "Error: get job information in id 3702930094\n",
      "Error: get job information in id 3699878289\n"
     ]
    },
    {
     "name": "stderr",
     "output_type": "stream",
     "text": [
      " 45%|████▍     | 1906/4236 [00:59<01:05, 35.80it/s]"
     ]
    },
    {
     "name": "stdout",
     "output_type": "stream",
     "text": [
      "Error: get job information in id 3709154007\n"
     ]
    },
    {
     "name": "stderr",
     "output_type": "stream",
     "text": [
      " 47%|████▋     | 1983/4236 [01:01<01:03, 35.38it/s]"
     ]
    },
    {
     "name": "stdout",
     "output_type": "stream",
     "text": [
      "Error: get job information in id 3719496237\n"
     ]
    },
    {
     "name": "stderr",
     "output_type": "stream",
     "text": [
      " 50%|████▉     | 2115/4236 [01:05<01:01, 34.68it/s]"
     ]
    },
    {
     "name": "stdout",
     "output_type": "stream",
     "text": [
      "Error: get job information in id 3706065350\n"
     ]
    },
    {
     "name": "stderr",
     "output_type": "stream",
     "text": [
      " 52%|█████▏    | 2201/4236 [01:08<00:58, 34.70it/s]"
     ]
    },
    {
     "name": "stdout",
     "output_type": "stream",
     "text": [
      "Error: get job information in id 3713666995\n"
     ]
    },
    {
     "name": "stderr",
     "output_type": "stream",
     "text": [
      " 56%|█████▌    | 2361/4236 [01:13<00:53, 35.00it/s]"
     ]
    },
    {
     "name": "stdout",
     "output_type": "stream",
     "text": [
      "Error: get job information in id 3708919052\n"
     ]
    },
    {
     "name": "stderr",
     "output_type": "stream",
     "text": [
      " 75%|███████▍  | 3157/4236 [01:39<00:33, 31.98it/s]"
     ]
    },
    {
     "name": "stdout",
     "output_type": "stream",
     "text": [
      "Error: get job information in id 3721196413\n",
      "Error: get job information in id 3721198108\n"
     ]
    },
    {
     "name": "stderr",
     "output_type": "stream",
     "text": [
      " 75%|███████▍  | 3174/4236 [01:40<01:14, 14.31it/s]"
     ]
    },
    {
     "name": "stdout",
     "output_type": "stream",
     "text": [
      "Error: get job information in id 3706053313\n"
     ]
    },
    {
     "name": "stderr",
     "output_type": "stream",
     "text": [
      " 76%|███████▌  | 3226/4236 [01:41<00:31, 32.27it/s]"
     ]
    },
    {
     "name": "stdout",
     "output_type": "stream",
     "text": [
      "Error: get job information in id 3694842346\n"
     ]
    },
    {
     "name": "stderr",
     "output_type": "stream",
     "text": [
      " 79%|███████▉  | 3352/4236 [01:46<00:26, 33.40it/s]"
     ]
    },
    {
     "name": "stdout",
     "output_type": "stream",
     "text": [
      "Error: in 'title'\n",
      "Error: in 'company'\n",
      "Error: in 'city'\n",
      "Error: in 'posting date'\n",
      "Error: in 'job description'\n",
      "Error: get job information in id 3720181679\n"
     ]
    },
    {
     "name": "stderr",
     "output_type": "stream",
     "text": [
      " 83%|████████▎ | 3518/4236 [01:52<00:23, 30.88it/s]"
     ]
    },
    {
     "name": "stdout",
     "output_type": "stream",
     "text": [
      "Error: get job information in id 3587028793\n"
     ]
    },
    {
     "name": "stderr",
     "output_type": "stream",
     "text": [
      " 85%|████████▍ | 3593/4236 [01:54<00:18, 34.23it/s]"
     ]
    },
    {
     "name": "stdout",
     "output_type": "stream",
     "text": [
      "Error: get job information in id 3681351872\n"
     ]
    },
    {
     "name": "stderr",
     "output_type": "stream",
     "text": [
      " 86%|████████▌ | 3641/4236 [01:56<00:16, 35.11it/s]"
     ]
    },
    {
     "name": "stdout",
     "output_type": "stream",
     "text": [
      "Error: get job information in id 3648776421\n"
     ]
    },
    {
     "name": "stderr",
     "output_type": "stream",
     "text": [
      " 86%|████████▌ | 3649/4236 [01:56<00:17, 34.02it/s]"
     ]
    },
    {
     "name": "stdout",
     "output_type": "stream",
     "text": [
      "Error: get job information in id 3675983890\n"
     ]
    },
    {
     "name": "stderr",
     "output_type": "stream",
     "text": [
      " 87%|████████▋ | 3672/4236 [01:57<00:20, 28.12it/s]"
     ]
    },
    {
     "name": "stdout",
     "output_type": "stream",
     "text": [
      "Error: get job information in id 3720168016\n"
     ]
    },
    {
     "name": "stderr",
     "output_type": "stream",
     "text": [
      " 87%|████████▋ | 3698/4236 [01:58<00:20, 26.03it/s]"
     ]
    },
    {
     "name": "stdout",
     "output_type": "stream",
     "text": [
      "Error: get job information in id 3703005122\n"
     ]
    },
    {
     "name": "stderr",
     "output_type": "stream",
     "text": [
      " 89%|████████▊ | 3755/4236 [02:00<00:14, 32.43it/s]"
     ]
    },
    {
     "name": "stdout",
     "output_type": "stream",
     "text": [
      "Error: get job information in id 3717768872\n"
     ]
    },
    {
     "name": "stderr",
     "output_type": "stream",
     "text": [
      " 89%|████████▉ | 3775/4236 [02:01<00:13, 33.75it/s]"
     ]
    },
    {
     "name": "stdout",
     "output_type": "stream",
     "text": [
      "Error: get job information in id 3707297023\n"
     ]
    },
    {
     "name": "stderr",
     "output_type": "stream",
     "text": [
      " 89%|████████▉ | 3791/4236 [02:01<00:13, 32.24it/s]"
     ]
    },
    {
     "name": "stdout",
     "output_type": "stream",
     "text": [
      "Error: get job information in id 3665328702\n"
     ]
    },
    {
     "name": "stderr",
     "output_type": "stream",
     "text": [
      " 90%|█████████ | 3833/4236 [02:03<00:13, 30.08it/s]"
     ]
    },
    {
     "name": "stdout",
     "output_type": "stream",
     "text": [
      "Error: get job information in id 3711531290\n"
     ]
    },
    {
     "name": "stderr",
     "output_type": "stream",
     "text": [
      " 92%|█████████▏| 3877/4236 [02:05<00:11, 30.07it/s]"
     ]
    },
    {
     "name": "stdout",
     "output_type": "stream",
     "text": [
      "Error: get job information in id 3719966617\n"
     ]
    },
    {
     "name": "stderr",
     "output_type": "stream",
     "text": [
      " 98%|█████████▊| 4134/4236 [02:14<00:03, 31.84it/s]"
     ]
    },
    {
     "name": "stdout",
     "output_type": "stream",
     "text": [
      "Error: get job information in id 3672719544\n"
     ]
    },
    {
     "name": "stderr",
     "output_type": "stream",
     "text": [
      "100%|█████████▉| 4216/4236 [02:17<00:00, 27.65it/s]"
     ]
    },
    {
     "name": "stdout",
     "output_type": "stream",
     "text": [
      "Error: get job information in id 3625146669\n",
      "Error: get job information in id 3714516834\n"
     ]
    },
    {
     "name": "stderr",
     "output_type": "stream",
     "text": [
      "100%|██████████| 4236/4236 [02:18<00:00, 30.68it/s]\n"
     ]
    }
   ],
   "source": [
    "columns = ['id','title', 'company', 'city', 'posting_date', 'job_description', 'seniority_level', 'employment_type', 'job_function', 'industries', 'scraping_date', 'url']\n",
    "scraper_df = pd.DataFrame(columns=columns)\n",
    "\n",
    "for key in tqdm(dict):\n",
    "    id = key\n",
    "    response = dict[key]\n",
    "    new_dict = get_all_job_information(id, response)\n",
    "    \n",
    "    new_row_df = pd.DataFrame([new_dict])\n",
    "    scraper_df = pd.concat([scraper_df, new_row_df], ignore_index=True)"
   ]
  },
  {
   "cell_type": "code",
   "execution_count": 49,
   "metadata": {},
   "outputs": [
    {
     "data": {
      "text/plain": [
       "employment_type\n",
       "Full-time     4173\n",
       "Contract         7\n",
       "Part-time        6\n",
       "Internship       1\n",
       "Name: count, dtype: int64"
      ]
     },
     "execution_count": 49,
     "metadata": {},
     "output_type": "execute_result"
    }
   ],
   "source": [
    "scraper_df['employment_type'].value_counts()"
   ]
  }
 ],
 "metadata": {
  "kernelspec": {
   "display_name": "myenv",
   "language": "python",
   "name": "python3"
  },
  "language_info": {
   "codemirror_mode": {
    "name": "ipython",
    "version": 3
   },
   "file_extension": ".py",
   "mimetype": "text/x-python",
   "name": "python",
   "nbconvert_exporter": "python",
   "pygments_lexer": "ipython3",
   "version": "3.11.5"
  },
  "orig_nbformat": 4
 },
 "nbformat": 4,
 "nbformat_minor": 2
}
