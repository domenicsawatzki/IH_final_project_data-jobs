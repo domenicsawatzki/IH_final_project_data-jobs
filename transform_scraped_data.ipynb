{
 "cells": [
  {
   "cell_type": "code",
   "execution_count": 1,
   "metadata": {},
   "outputs": [
    {
     "name": "stdout",
     "output_type": "stream",
     "text": [
      "pygame 2.5.2 (SDL 2.28.3, Python 3.11.5)\n",
      "Hello from the pygame community. https://www.pygame.org/contribute.html\n"
     ]
    }
   ],
   "source": [
    "import winsound\n",
    "import pygame\n",
    "from bs4 import BeautifulSoup, NavigableString\n",
    "import requests\n",
    "from time import sleep\n",
    "from random import randint\n",
    "import math\n",
    "from tqdm import tqdm\n",
    "import pickle\n",
    "import pandas as pd\n",
    "from datetime import date\n",
    "from datetime import datetime\n",
    "import json\n",
    "\n",
    "import pymysql                        # for getting data from a SQL database\n",
    "from sqlalchemy import create_engine, text  # for establishing the connection and authentication\n",
    "import zlib\n",
    "\n",
    "from webscraper.scrap_modules import my_NLP as myNLP \n",
    "from webscraper.scrap_modules import scraper_ds as mybib\n",
    "from webscraper.scrap_modules import prep as myPrep\n",
    "\n",
    "%load_ext autoreload\n",
    "%autoreload 2"
   ]
  },
  {
   "cell_type": "markdown",
   "metadata": {},
   "source": [
    "### load scraped raw data"
   ]
  },
  {
   "cell_type": "code",
   "execution_count": 2,
   "metadata": {},
   "outputs": [],
   "source": [
    "\n",
    "with open(\"webscraper/webscrap_data/soup_dict.pkl\", \"rb\") as f:\n",
    "    scraper_dict = pickle.load(f)\n",
    "    \n",
    "with open(\"webscraper/webscrap_data/keyword_dict.pkl\", \"rb\") as f:\n",
    "    keyword_dict = pickle.load(f)"
   ]
  },
  {
   "cell_type": "code",
   "execution_count": 3,
   "metadata": {},
   "outputs": [
    {
     "data": {
      "text/plain": [
       "22079"
      ]
     },
     "execution_count": 3,
     "metadata": {},
     "output_type": "execute_result"
    }
   ],
   "source": [
    "len(scraper_dict)"
   ]
  },
  {
   "cell_type": "markdown",
   "metadata": {},
   "source": [
    "### transform scraped raw data into df "
   ]
  },
  {
   "cell_type": "code",
   "execution_count": 5,
   "metadata": {},
   "outputs": [
    {
     "name": "stderr",
     "output_type": "stream",
     "text": [
      "100%|██████████| 22079/22079 [12:54<00:00, 28.51it/s]\n"
     ]
    }
   ],
   "source": [
    "df = myPrep.transform_scrap_data_to_df(scraper_dict)"
   ]
  },
  {
   "cell_type": "code",
   "execution_count": null,
   "metadata": {},
   "outputs": [
    {
     "data": {
      "text/html": [
       "<div>\n",
       "<style scoped>\n",
       "    .dataframe tbody tr th:only-of-type {\n",
       "        vertical-align: middle;\n",
       "    }\n",
       "\n",
       "    .dataframe tbody tr th {\n",
       "        vertical-align: top;\n",
       "    }\n",
       "\n",
       "    .dataframe thead th {\n",
       "        text-align: right;\n",
       "    }\n",
       "</style>\n",
       "<table border=\"1\" class=\"dataframe\">\n",
       "  <thead>\n",
       "    <tr style=\"text-align: right;\">\n",
       "      <th></th>\n",
       "      <th>id</th>\n",
       "      <th>title</th>\n",
       "      <th>company</th>\n",
       "      <th>city</th>\n",
       "      <th>posting_date</th>\n",
       "      <th>job_description</th>\n",
       "      <th>seniority_level</th>\n",
       "      <th>employment_type</th>\n",
       "      <th>job_function</th>\n",
       "      <th>industries</th>\n",
       "      <th>scraping_date</th>\n",
       "      <th>url</th>\n",
       "    </tr>\n",
       "  </thead>\n",
       "  <tbody>\n",
       "    <tr>\n",
       "      <th>0</th>\n",
       "      <td>3685669741</td>\n",
       "      <td>Software Engineer Fullstack (m/w/d)</td>\n",
       "      <td>Atruvia AG</td>\n",
       "      <td>Aschheim, Bavaria, Germany</td>\n",
       "      <td>1 day ago</td>\n",
       "      <td>VollzeitWir sind der Digitalisierungspartner d...</td>\n",
       "      <td>Entry level</td>\n",
       "      <td>Full-time</td>\n",
       "      <td>Engineering and Information Technology</td>\n",
       "      <td>IT Services and IT Consulting</td>\n",
       "      <td>2023-09-24</td>\n",
       "      <td>https://www.linkedin.com/jobs/search?keywords=...</td>\n",
       "    </tr>\n",
       "    <tr>\n",
       "      <th>1</th>\n",
       "      <td>3719620327</td>\n",
       "      <td>Data Analyst - Business Intelligence</td>\n",
       "      <td>Almedia</td>\n",
       "      <td>Berlin, Berlin, Germany</td>\n",
       "      <td>5 days ago</td>\n",
       "      <td>Almedia helps companies grow by promoting thei...</td>\n",
       "      <td>Mid-Senior level</td>\n",
       "      <td>Full-time</td>\n",
       "      <td>Analyst</td>\n",
       "      <td>Technology, Information and Internet</td>\n",
       "      <td>2023-09-24</td>\n",
       "      <td>https://www.linkedin.com/jobs/search?keywords=...</td>\n",
       "    </tr>\n",
       "    <tr>\n",
       "      <th>2</th>\n",
       "      <td>3720365801</td>\n",
       "      <td>(Junior) Data Engineer (m/f/d)</td>\n",
       "      <td>Sandbox Interactive</td>\n",
       "      <td>Berlin, Berlin, Germany</td>\n",
       "      <td>1 day ago</td>\n",
       "      <td>YOUR GAMEBuild and maintain the current data i...</td>\n",
       "      <td>Mid-Senior level</td>\n",
       "      <td>Full-time</td>\n",
       "      <td>Information Technology</td>\n",
       "      <td>Computer Games</td>\n",
       "      <td>2023-09-24</td>\n",
       "      <td>https://www.linkedin.com/jobs/search?keywords=...</td>\n",
       "    </tr>\n",
       "    <tr>\n",
       "      <th>3</th>\n",
       "      <td>3672508925</td>\n",
       "      <td>Financial Data Analyst (m/f/d)</td>\n",
       "      <td>Ultramarin</td>\n",
       "      <td>Berlin, Berlin, Germany</td>\n",
       "      <td>2 months ago</td>\n",
       "      <td>About The PositionWe are looking for a top-tie...</td>\n",
       "      <td>Mid-Senior level</td>\n",
       "      <td>Full-time</td>\n",
       "      <td>Information Technology</td>\n",
       "      <td>Financial Services</td>\n",
       "      <td>2023-09-24</td>\n",
       "      <td>https://www.linkedin.com/jobs/search?keywords=...</td>\n",
       "    </tr>\n",
       "    <tr>\n",
       "      <th>4</th>\n",
       "      <td>3695466781</td>\n",
       "      <td>Business Intelligence Analyst (f/m/d)</td>\n",
       "      <td>Les Lunes</td>\n",
       "      <td>Berlin, Berlin, Germany</td>\n",
       "      <td>4 weeks ago</td>\n",
       "      <td>Your missionAs a Business Intelligence Analyst...</td>\n",
       "      <td>Mid-Senior level</td>\n",
       "      <td>Full-time</td>\n",
       "      <td>Research, Analyst, and Information Technology</td>\n",
       "      <td>Retail Apparel and Fashion</td>\n",
       "      <td>2023-09-24</td>\n",
       "      <td>https://www.linkedin.com/jobs/search?keywords=...</td>\n",
       "    </tr>\n",
       "    <tr>\n",
       "      <th>5</th>\n",
       "      <td>3585738180</td>\n",
       "      <td>Data Analyst</td>\n",
       "      <td>Orange Quarter</td>\n",
       "      <td>Berlin, Berlin, Germany</td>\n",
       "      <td>5 months ago</td>\n",
       "      <td>Orange Quarter are working with an exciting st...</td>\n",
       "      <td>Entry level</td>\n",
       "      <td>Full-time</td>\n",
       "      <td>Information Technology</td>\n",
       "      <td>Staffing and Recruiting</td>\n",
       "      <td>2023-09-24</td>\n",
       "      <td>https://www.linkedin.com/jobs/search?keywords=...</td>\n",
       "    </tr>\n",
       "    <tr>\n",
       "      <th>6</th>\n",
       "      <td>3585734564</td>\n",
       "      <td>Data Analyst</td>\n",
       "      <td>Orange Quarter</td>\n",
       "      <td>Berlin, Berlin, Germany</td>\n",
       "      <td>5 months ago</td>\n",
       "      <td>Orange Quarter are currently looking for a Dat...</td>\n",
       "      <td>Entry level</td>\n",
       "      <td>Full-time</td>\n",
       "      <td>Information Technology</td>\n",
       "      <td>Staffing and Recruiting</td>\n",
       "      <td>2023-09-24</td>\n",
       "      <td>https://www.linkedin.com/jobs/search?keywords=...</td>\n",
       "    </tr>\n",
       "    <tr>\n",
       "      <th>7</th>\n",
       "      <td>3704916810</td>\n",
       "      <td>BI Analyst (f/m/d)</td>\n",
       "      <td>Enter</td>\n",
       "      <td>Berlin, Berlin, Germany</td>\n",
       "      <td>3 weeks ago</td>\n",
       "      <td>Build the future with Enter.Our mission is to ...</td>\n",
       "      <td>Mid-Senior level</td>\n",
       "      <td>Full-time</td>\n",
       "      <td>Information Technology</td>\n",
       "      <td>Architecture and Planning</td>\n",
       "      <td>2023-09-24</td>\n",
       "      <td>https://www.linkedin.com/jobs/search?keywords=...</td>\n",
       "    </tr>\n",
       "    <tr>\n",
       "      <th>8</th>\n",
       "      <td>3585734595</td>\n",
       "      <td>Data Analyst</td>\n",
       "      <td>Orange Quarter</td>\n",
       "      <td>Berlin, Berlin, Germany</td>\n",
       "      <td>5 months ago</td>\n",
       "      <td>We are currently working with an emerging SaaS...</td>\n",
       "      <td>Entry level</td>\n",
       "      <td>Full-time</td>\n",
       "      <td>Information Technology</td>\n",
       "      <td>Staffing and Recruiting</td>\n",
       "      <td>2023-09-24</td>\n",
       "      <td>https://www.linkedin.com/jobs/search?keywords=...</td>\n",
       "    </tr>\n",
       "    <tr>\n",
       "      <th>9</th>\n",
       "      <td>3698396795</td>\n",
       "      <td>Senior Data Analyst</td>\n",
       "      <td>Klim</td>\n",
       "      <td>Berlin, Berlin, Germany</td>\n",
       "      <td>1 month ago</td>\n",
       "      <td>We are Klim, a Berlin-based clean-tech company...</td>\n",
       "      <td>Mid-Senior level</td>\n",
       "      <td>Full-time</td>\n",
       "      <td>Other</td>\n",
       "      <td>IT Services and IT Consulting</td>\n",
       "      <td>2023-09-24</td>\n",
       "      <td>https://www.linkedin.com/jobs/search?keywords=...</td>\n",
       "    </tr>\n",
       "  </tbody>\n",
       "</table>\n",
       "</div>"
      ],
      "text/plain": [
       "           id                                  title              company  \\\n",
       "0  3685669741    Software Engineer Fullstack (m/w/d)           Atruvia AG   \n",
       "1  3719620327   Data Analyst - Business Intelligence              Almedia   \n",
       "2  3720365801         (Junior) Data Engineer (m/f/d)  Sandbox Interactive   \n",
       "3  3672508925         Financial Data Analyst (m/f/d)           Ultramarin   \n",
       "4  3695466781  Business Intelligence Analyst (f/m/d)            Les Lunes   \n",
       "5  3585738180                           Data Analyst       Orange Quarter   \n",
       "6  3585734564                           Data Analyst       Orange Quarter   \n",
       "7  3704916810                     BI Analyst (f/m/d)                Enter   \n",
       "8  3585734595                           Data Analyst       Orange Quarter   \n",
       "9  3698396795                    Senior Data Analyst                 Klim   \n",
       "\n",
       "                         city  posting_date  \\\n",
       "0  Aschheim, Bavaria, Germany     1 day ago   \n",
       "1     Berlin, Berlin, Germany    5 days ago   \n",
       "2     Berlin, Berlin, Germany     1 day ago   \n",
       "3     Berlin, Berlin, Germany  2 months ago   \n",
       "4     Berlin, Berlin, Germany   4 weeks ago   \n",
       "5     Berlin, Berlin, Germany  5 months ago   \n",
       "6     Berlin, Berlin, Germany  5 months ago   \n",
       "7     Berlin, Berlin, Germany   3 weeks ago   \n",
       "8     Berlin, Berlin, Germany  5 months ago   \n",
       "9     Berlin, Berlin, Germany   1 month ago   \n",
       "\n",
       "                                     job_description   seniority_level  \\\n",
       "0  VollzeitWir sind der Digitalisierungspartner d...       Entry level   \n",
       "1  Almedia helps companies grow by promoting thei...  Mid-Senior level   \n",
       "2  YOUR GAMEBuild and maintain the current data i...  Mid-Senior level   \n",
       "3  About The PositionWe are looking for a top-tie...  Mid-Senior level   \n",
       "4  Your missionAs a Business Intelligence Analyst...  Mid-Senior level   \n",
       "5  Orange Quarter are working with an exciting st...       Entry level   \n",
       "6  Orange Quarter are currently looking for a Dat...       Entry level   \n",
       "7  Build the future with Enter.Our mission is to ...  Mid-Senior level   \n",
       "8  We are currently working with an emerging SaaS...       Entry level   \n",
       "9  We are Klim, a Berlin-based clean-tech company...  Mid-Senior level   \n",
       "\n",
       "  employment_type                                   job_function  \\\n",
       "0       Full-time         Engineering and Information Technology   \n",
       "1       Full-time                                        Analyst   \n",
       "2       Full-time                         Information Technology   \n",
       "3       Full-time                         Information Technology   \n",
       "4       Full-time  Research, Analyst, and Information Technology   \n",
       "5       Full-time                         Information Technology   \n",
       "6       Full-time                         Information Technology   \n",
       "7       Full-time                         Information Technology   \n",
       "8       Full-time                         Information Technology   \n",
       "9       Full-time                                          Other   \n",
       "\n",
       "                             industries scraping_date  \\\n",
       "0         IT Services and IT Consulting    2023-09-24   \n",
       "1  Technology, Information and Internet    2023-09-24   \n",
       "2                        Computer Games    2023-09-24   \n",
       "3                    Financial Services    2023-09-24   \n",
       "4            Retail Apparel and Fashion    2023-09-24   \n",
       "5               Staffing and Recruiting    2023-09-24   \n",
       "6               Staffing and Recruiting    2023-09-24   \n",
       "7             Architecture and Planning    2023-09-24   \n",
       "8               Staffing and Recruiting    2023-09-24   \n",
       "9         IT Services and IT Consulting    2023-09-24   \n",
       "\n",
       "                                                 url  \n",
       "0  https://www.linkedin.com/jobs/search?keywords=...  \n",
       "1  https://www.linkedin.com/jobs/search?keywords=...  \n",
       "2  https://www.linkedin.com/jobs/search?keywords=...  \n",
       "3  https://www.linkedin.com/jobs/search?keywords=...  \n",
       "4  https://www.linkedin.com/jobs/search?keywords=...  \n",
       "5  https://www.linkedin.com/jobs/search?keywords=...  \n",
       "6  https://www.linkedin.com/jobs/search?keywords=...  \n",
       "7  https://www.linkedin.com/jobs/search?keywords=...  \n",
       "8  https://www.linkedin.com/jobs/search?keywords=...  \n",
       "9  https://www.linkedin.com/jobs/search?keywords=...  "
      ]
     },
     "execution_count": 10,
     "metadata": {},
     "output_type": "execute_result"
    }
   ],
   "source": [
    "# df.head(5)"
   ]
  },
  {
   "cell_type": "code",
   "execution_count": 11,
   "metadata": {},
   "outputs": [
    {
     "data": {
      "text/plain": [
       "275"
      ]
     },
     "execution_count": 11,
     "metadata": {},
     "output_type": "execute_result"
    }
   ],
   "source": [
    "df[\"title\"].isna().sum()"
   ]
  },
  {
   "cell_type": "markdown",
   "metadata": {},
   "source": [
    "### data cleaning - empty rows\n",
    "Trying to fill none values doing a second request"
   ]
  },
  {
   "cell_type": "code",
   "execution_count": null,
   "metadata": {},
   "outputs": [],
   "source": [
    "empty_id_list = empty_rows['id'].tolist()\n",
    "\n",
    "for id in empty_id_list:\n",
    "    print(f\"https://www.linkedin.com/jobs-guest/jobs/api/jobPosting/{id}\")"
   ]
  },
  {
   "cell_type": "code",
   "execution_count": 9,
   "metadata": {},
   "outputs": [
    {
     "name": "stderr",
     "output_type": "stream",
     "text": [
      "100%|██████████| 275/275 [09:42<00:00,  2.12s/it]\n",
      "100%|██████████| 275/275 [00:06<00:00, 41.48it/s]\n"
     ]
    },
    {
     "name": "stdout",
     "output_type": "stream",
     "text": [
      "Round0: 7 empty values left\n"
     ]
    },
    {
     "name": "stderr",
     "output_type": "stream",
     "text": [
      "100%|██████████| 7/7 [00:17<00:00,  2.53s/it]\n",
      "100%|██████████| 7/7 [00:00<00:00, 56.33it/s]"
     ]
    },
    {
     "name": "stdout",
     "output_type": "stream",
     "text": [
      "Round1: 0 empty values left\n",
      "Finished in round <built-in function id>\n"
     ]
    },
    {
     "name": "stderr",
     "output_type": "stream",
     "text": [
      "\n"
     ]
    }
   ],
   "source": [
    "cleaned_df = myPrep.null_value_cleaner(df, 4) # increases each round the sleep time for scraping process"
   ]
  },
  {
   "cell_type": "code",
   "execution_count": null,
   "metadata": {},
   "outputs": [
    {
     "data": {
      "text/html": [
       "<div>\n",
       "<style scoped>\n",
       "    .dataframe tbody tr th:only-of-type {\n",
       "        vertical-align: middle;\n",
       "    }\n",
       "\n",
       "    .dataframe tbody tr th {\n",
       "        vertical-align: top;\n",
       "    }\n",
       "\n",
       "    .dataframe thead th {\n",
       "        text-align: right;\n",
       "    }\n",
       "</style>\n",
       "<table border=\"1\" class=\"dataframe\">\n",
       "  <thead>\n",
       "    <tr style=\"text-align: right;\">\n",
       "      <th></th>\n",
       "      <th>id</th>\n",
       "      <th>title</th>\n",
       "      <th>company</th>\n",
       "      <th>city</th>\n",
       "      <th>posting_date</th>\n",
       "      <th>job_description</th>\n",
       "      <th>seniority_level</th>\n",
       "      <th>employment_type</th>\n",
       "      <th>job_function</th>\n",
       "      <th>industries</th>\n",
       "      <th>scraping_date</th>\n",
       "      <th>url</th>\n",
       "    </tr>\n",
       "  </thead>\n",
       "  <tbody>\n",
       "    <tr>\n",
       "      <th>0</th>\n",
       "      <td>3685669741</td>\n",
       "      <td>Software Engineer Fullstack (m/w/d)</td>\n",
       "      <td>Atruvia AG</td>\n",
       "      <td>Aschheim, Bavaria, Germany</td>\n",
       "      <td>1 day ago</td>\n",
       "      <td>VollzeitWir sind der Digitalisierungspartner d...</td>\n",
       "      <td>Entry level</td>\n",
       "      <td>Full-time</td>\n",
       "      <td>Engineering and Information Technology</td>\n",
       "      <td>IT Services and IT Consulting</td>\n",
       "      <td>2023-09-24</td>\n",
       "      <td>https://www.linkedin.com/jobs/search?keywords=...</td>\n",
       "    </tr>\n",
       "    <tr>\n",
       "      <th>1</th>\n",
       "      <td>3719620327</td>\n",
       "      <td>Data Analyst - Business Intelligence</td>\n",
       "      <td>Almedia</td>\n",
       "      <td>Berlin, Berlin, Germany</td>\n",
       "      <td>5 days ago</td>\n",
       "      <td>Almedia helps companies grow by promoting thei...</td>\n",
       "      <td>Mid-Senior level</td>\n",
       "      <td>Full-time</td>\n",
       "      <td>Analyst</td>\n",
       "      <td>Technology, Information and Internet</td>\n",
       "      <td>2023-09-24</td>\n",
       "      <td>https://www.linkedin.com/jobs/search?keywords=...</td>\n",
       "    </tr>\n",
       "    <tr>\n",
       "      <th>2</th>\n",
       "      <td>3720365801</td>\n",
       "      <td>(Junior) Data Engineer (m/f/d)</td>\n",
       "      <td>Sandbox Interactive</td>\n",
       "      <td>Berlin, Berlin, Germany</td>\n",
       "      <td>1 day ago</td>\n",
       "      <td>YOUR GAMEBuild and maintain the current data i...</td>\n",
       "      <td>Mid-Senior level</td>\n",
       "      <td>Full-time</td>\n",
       "      <td>Information Technology</td>\n",
       "      <td>Computer Games</td>\n",
       "      <td>2023-09-24</td>\n",
       "      <td>https://www.linkedin.com/jobs/search?keywords=...</td>\n",
       "    </tr>\n",
       "    <tr>\n",
       "      <th>3</th>\n",
       "      <td>3672508925</td>\n",
       "      <td>Financial Data Analyst (m/f/d)</td>\n",
       "      <td>Ultramarin</td>\n",
       "      <td>Berlin, Berlin, Germany</td>\n",
       "      <td>2 months ago</td>\n",
       "      <td>About The PositionWe are looking for a top-tie...</td>\n",
       "      <td>Mid-Senior level</td>\n",
       "      <td>Full-time</td>\n",
       "      <td>Information Technology</td>\n",
       "      <td>Financial Services</td>\n",
       "      <td>2023-09-24</td>\n",
       "      <td>https://www.linkedin.com/jobs/search?keywords=...</td>\n",
       "    </tr>\n",
       "    <tr>\n",
       "      <th>4</th>\n",
       "      <td>3695466781</td>\n",
       "      <td>Business Intelligence Analyst (f/m/d)</td>\n",
       "      <td>Les Lunes</td>\n",
       "      <td>Berlin, Berlin, Germany</td>\n",
       "      <td>4 weeks ago</td>\n",
       "      <td>Your missionAs a Business Intelligence Analyst...</td>\n",
       "      <td>Mid-Senior level</td>\n",
       "      <td>Full-time</td>\n",
       "      <td>Research, Analyst, and Information Technology</td>\n",
       "      <td>Retail Apparel and Fashion</td>\n",
       "      <td>2023-09-24</td>\n",
       "      <td>https://www.linkedin.com/jobs/search?keywords=...</td>\n",
       "    </tr>\n",
       "  </tbody>\n",
       "</table>\n",
       "</div>"
      ],
      "text/plain": [
       "           id                                  title              company  \\\n",
       "0  3685669741    Software Engineer Fullstack (m/w/d)           Atruvia AG   \n",
       "1  3719620327   Data Analyst - Business Intelligence              Almedia   \n",
       "2  3720365801         (Junior) Data Engineer (m/f/d)  Sandbox Interactive   \n",
       "3  3672508925         Financial Data Analyst (m/f/d)           Ultramarin   \n",
       "4  3695466781  Business Intelligence Analyst (f/m/d)            Les Lunes   \n",
       "\n",
       "                         city  posting_date  \\\n",
       "0  Aschheim, Bavaria, Germany     1 day ago   \n",
       "1     Berlin, Berlin, Germany    5 days ago   \n",
       "2     Berlin, Berlin, Germany     1 day ago   \n",
       "3     Berlin, Berlin, Germany  2 months ago   \n",
       "4     Berlin, Berlin, Germany   4 weeks ago   \n",
       "\n",
       "                                     job_description   seniority_level  \\\n",
       "0  VollzeitWir sind der Digitalisierungspartner d...       Entry level   \n",
       "1  Almedia helps companies grow by promoting thei...  Mid-Senior level   \n",
       "2  YOUR GAMEBuild and maintain the current data i...  Mid-Senior level   \n",
       "3  About The PositionWe are looking for a top-tie...  Mid-Senior level   \n",
       "4  Your missionAs a Business Intelligence Analyst...  Mid-Senior level   \n",
       "\n",
       "  employment_type                                   job_function  \\\n",
       "0       Full-time         Engineering and Information Technology   \n",
       "1       Full-time                                        Analyst   \n",
       "2       Full-time                         Information Technology   \n",
       "3       Full-time                         Information Technology   \n",
       "4       Full-time  Research, Analyst, and Information Technology   \n",
       "\n",
       "                             industries scraping_date  \\\n",
       "0         IT Services and IT Consulting    2023-09-24   \n",
       "1  Technology, Information and Internet    2023-09-24   \n",
       "2                        Computer Games    2023-09-24   \n",
       "3                    Financial Services    2023-09-24   \n",
       "4            Retail Apparel and Fashion    2023-09-24   \n",
       "\n",
       "                                                 url  \n",
       "0  https://www.linkedin.com/jobs/search?keywords=...  \n",
       "1  https://www.linkedin.com/jobs/search?keywords=...  \n",
       "2  https://www.linkedin.com/jobs/search?keywords=...  \n",
       "3  https://www.linkedin.com/jobs/search?keywords=...  \n",
       "4  https://www.linkedin.com/jobs/search?keywords=...  "
      ]
     },
     "metadata": {},
     "output_type": "display_data"
    }
   ],
   "source": [
    "# display(cleaned_df.head(5))"
   ]
  },
  {
   "cell_type": "markdown",
   "metadata": {},
   "source": [
    "### Add keywords"
   ]
  },
  {
   "cell_type": "code",
   "execution_count": 14,
   "metadata": {},
   "outputs": [],
   "source": [
    "small_dict = {}\n",
    "for key in keyword_dict:\n",
    "    small_dict[key] = keyword_dict[key][0]"
   ]
  },
  {
   "cell_type": "code",
   "execution_count": 15,
   "metadata": {},
   "outputs": [],
   "source": [
    "cleaned_df['keyword'] = cleaned_df['id'].map(small_dict)"
   ]
  },
  {
   "cell_type": "markdown",
   "metadata": {},
   "source": [
    "### Add language "
   ]
  },
  {
   "cell_type": "code",
   "execution_count": 19,
   "metadata": {},
   "outputs": [
    {
     "name": "stderr",
     "output_type": "stream",
     "text": [
      "Processing: 100%|██████████| 22079/22079 [03:30<00:00, 104.73it/s]\n"
     ]
    }
   ],
   "source": [
    "\n",
    "cleaned_df = myNLP.add_language_values_to_df(cleaned_df, search_column = 'job_description') # add language values \n"
   ]
  },
  {
   "cell_type": "markdown",
   "metadata": {},
   "source": [
    "### Save data"
   ]
  },
  {
   "cell_type": "code",
   "execution_count": 21,
   "metadata": {},
   "outputs": [],
   "source": [
    "myPrep.save_cleaned_df(cleaned_df, 'cleaned_dataframe')"
   ]
  }
 ],
 "metadata": {
  "kernelspec": {
   "display_name": "myenv",
   "language": "python",
   "name": "python3"
  },
  "language_info": {
   "codemirror_mode": {
    "name": "ipython",
    "version": 3
   },
   "file_extension": ".py",
   "mimetype": "text/x-python",
   "name": "python",
   "nbconvert_exporter": "python",
   "pygments_lexer": "ipython3",
   "version": "3.11.5"
  },
  "orig_nbformat": 4
 },
 "nbformat": 4,
 "nbformat_minor": 2
}
