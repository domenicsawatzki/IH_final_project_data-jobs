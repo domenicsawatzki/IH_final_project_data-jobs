{
 "cells": [
  {
   "cell_type": "code",
   "execution_count": 1,
   "metadata": {},
   "outputs": [],
   "source": [
    "from bs4 import BeautifulSoup, NavigableString\n",
    "import requests\n",
    "from time import sleep\n",
    "from random import randint\n",
    "import math\n",
    "from tqdm import tqdm\n",
    "import pickle\n",
    "import pandas as pd\n",
    "from datetime import date\n",
    "from datetime import datetime\n",
    "import json"
   ]
  },
  {
   "cell_type": "code",
   "execution_count": 9,
   "metadata": {},
   "outputs": [
    {
     "name": "stdout",
     "output_type": "stream",
     "text": [
      "Empty DataFrame\n",
      "Columns: [id, title, company, time, job_description, seniority_level, job_function, industries, Scraping_date, url, keyword]\n",
      "Index: []\n",
      "None\n"
     ]
    },
    {
     "data": {
      "text/plain": [
       "{'2023-09-20': None}"
      ]
     },
     "execution_count": 9,
     "metadata": {},
     "output_type": "execute_result"
    }
   ],
   "source": [
    "# initialize df \n",
    "\n",
    "columns = ['id','title', 'company', 'time', 'job_description', 'seniority_level', 'job_function', 'industries', 'Scraping_date', 'url', 'keyword']\n",
    "\n",
    "scraper_df = pd.DataFrame(columns=columns)\n",
    "print(scraper_df)\n",
    "\n",
    "current_date = datetime.now()\n",
    "time = current_date.strftime(\"%Y-%m-%d\")\n",
    "time\n",
    "\n",
    "todays_scrap = {}\n",
    "scraper_df_json = scraper_df.to_json('dataframe.json', orient='split', date_format='iso', indent=4)\n",
    "\n",
    "print(scraper_df_json)\n",
    "todays_scrap[time] = scraper_df_json\n",
    "\n",
    "todays_scrap\n",
    "\n",
    "# with open(f'webscraper/webscrap_data/webscrap.json', 'wb') as file:\n",
    "#     json.dump(todays_scrap, file=file)\n"
   ]
  },
  {
   "cell_type": "code",
   "execution_count": null,
   "metadata": {},
   "outputs": [],
   "source": []
  }
 ],
 "metadata": {
  "kernelspec": {
   "display_name": "Python 3 (ipykernel)",
   "language": "python",
   "name": "python3"
  },
  "language_info": {
   "codemirror_mode": {
    "name": "ipython",
    "version": 3
   },
   "file_extension": ".py",
   "mimetype": "text/x-python",
   "name": "python",
   "nbconvert_exporter": "python",
   "pygments_lexer": "ipython3",
   "version": "3.10.9"
  },
  "orig_nbformat": 4
 },
 "nbformat": 4,
 "nbformat_minor": 2
}
